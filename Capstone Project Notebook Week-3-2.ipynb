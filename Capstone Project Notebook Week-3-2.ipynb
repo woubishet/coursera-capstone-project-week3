{
    "nbformat_minor": 1, 
    "cells": [
        {
            "source": "# Segmenting and Clustering Neighborhoods in Toronto", 
            "cell_type": "markdown", 
            "metadata": {
                "collapsed": true
            }
        }, 
        {
            "execution_count": 1, 
            "cell_type": "code", 
            "metadata": {}, 
            "outputs": [
                {
                    "output_type": "stream", 
                    "name": "stdout", 
                    "text": "Waiting for a Spark session to start...\nSpark Initialization Done! ApplicationId = app-20181017065710-0001\n"
                }
            ], 
            "source": "import pandas as pd # library for data analsysis\nimport numpy as np # library to handle data in a vectorized manner\nimport requests # library to handle requests\nfrom bs4 import BeautifulSoup"
        }, 
        {
            "execution_count": 2, 
            "cell_type": "code", 
            "metadata": {}, 
            "outputs": [
                {
                    "execution_count": 2, 
                    "metadata": {}, 
                    "data": {
                        "text/html": "<div>\n<style scoped>\n    .dataframe tbody tr th:only-of-type {\n        vertical-align: middle;\n    }\n\n    .dataframe tbody tr th {\n        vertical-align: top;\n    }\n\n    .dataframe thead th {\n        text-align: right;\n    }\n</style>\n<table border=\"1\" class=\"dataframe\">\n  <thead>\n    <tr style=\"text-align: right;\">\n      <th></th>\n      <th>0</th>\n      <th>1</th>\n      <th>2</th>\n    </tr>\n  </thead>\n  <tbody>\n    <tr>\n      <th>0</th>\n      <td>Postcode</td>\n      <td>Borough</td>\n      <td>Neighbourhood</td>\n    </tr>\n    <tr>\n      <th>1</th>\n      <td>M1A</td>\n      <td>Not assigned</td>\n      <td>Not assigned</td>\n    </tr>\n    <tr>\n      <th>2</th>\n      <td>M2A</td>\n      <td>Not assigned</td>\n      <td>Not assigned</td>\n    </tr>\n    <tr>\n      <th>3</th>\n      <td>M3A</td>\n      <td>North York</td>\n      <td>Parkwoods</td>\n    </tr>\n    <tr>\n      <th>4</th>\n      <td>M4A</td>\n      <td>North York</td>\n      <td>Victoria Village</td>\n    </tr>\n  </tbody>\n</table>\n</div>", 
                        "text/plain": "          0             1                 2\n0  Postcode       Borough     Neighbourhood\n1       M1A  Not assigned      Not assigned\n2       M2A  Not assigned      Not assigned\n3       M3A    North York         Parkwoods\n4       M4A    North York  Victoria Village"
                    }, 
                    "output_type": "execute_result"
                }
            ], 
            "source": "# Create the dataframe consist of three columns: PostalCode, Borough, and Neighborhood\n\nURL ='https://en.wikipedia.org/wiki/List_of_postal_codes_of_Canada:_M' \nRq = requests.get(URL)\nBS = BeautifulSoup(Rq.content,'lxml')\ntable = BS.find_all('table')[0] \ndf = pd.read_html(str(table))[0]\ndf_pcode = pd.DataFrame(df)\n\ndf_pcode.head()"
        }, 
        {
            "execution_count": 3, 
            "cell_type": "code", 
            "metadata": {}, 
            "outputs": [
                {
                    "execution_count": 3, 
                    "metadata": {}, 
                    "data": {
                        "text/html": "<div>\n<style scoped>\n    .dataframe tbody tr th:only-of-type {\n        vertical-align: middle;\n    }\n\n    .dataframe tbody tr th {\n        vertical-align: top;\n    }\n\n    .dataframe thead th {\n        text-align: right;\n    }\n</style>\n<table border=\"1\" class=\"dataframe\">\n  <thead>\n    <tr style=\"text-align: right;\">\n      <th></th>\n      <th>Postcode</th>\n      <th>Borough</th>\n      <th>Neighborhood</th>\n    </tr>\n  </thead>\n  <tbody>\n    <tr>\n      <th>1</th>\n      <td>M1A</td>\n      <td>Not assigned</td>\n      <td>Not assigned</td>\n    </tr>\n    <tr>\n      <th>2</th>\n      <td>M2A</td>\n      <td>Not assigned</td>\n      <td>Not assigned</td>\n    </tr>\n    <tr>\n      <th>3</th>\n      <td>M3A</td>\n      <td>North York</td>\n      <td>Parkwoods</td>\n    </tr>\n    <tr>\n      <th>4</th>\n      <td>M4A</td>\n      <td>North York</td>\n      <td>Victoria Village</td>\n    </tr>\n    <tr>\n      <th>5</th>\n      <td>M5A</td>\n      <td>Downtown Toronto</td>\n      <td>Harbourfront</td>\n    </tr>\n  </tbody>\n</table>\n</div>", 
                        "text/plain": "  Postcode           Borough      Neighborhood\n1      M1A      Not assigned      Not assigned\n2      M2A      Not assigned      Not assigned\n3      M3A        North York         Parkwoods\n4      M4A        North York  Victoria Village\n5      M5A  Downtown Toronto      Harbourfront"
                    }, 
                    "output_type": "execute_result"
                }
            ], 
            "source": "#  Drop the first coulmn and rename the coulum names\n\ndf_pcode.drop(0,inplace=True)\ndf_pcode.columns = ['Postcode','Borough','Neighborhood']\ndf_pcode.head()"
        }, 
        {
            "execution_count": 4, 
            "cell_type": "code", 
            "metadata": {}, 
            "outputs": [
                {
                    "execution_count": 4, 
                    "metadata": {}, 
                    "data": {
                        "text/html": "<div>\n<style scoped>\n    .dataframe tbody tr th:only-of-type {\n        vertical-align: middle;\n    }\n\n    .dataframe tbody tr th {\n        vertical-align: top;\n    }\n\n    .dataframe thead th {\n        text-align: right;\n    }\n</style>\n<table border=\"1\" class=\"dataframe\">\n  <thead>\n    <tr style=\"text-align: right;\">\n      <th></th>\n      <th>Postcode</th>\n      <th>Borough</th>\n      <th>Neighborhood</th>\n    </tr>\n  </thead>\n  <tbody>\n    <tr>\n      <th>0</th>\n      <td>M3A</td>\n      <td>North York</td>\n      <td>Parkwoods</td>\n    </tr>\n    <tr>\n      <th>1</th>\n      <td>M4A</td>\n      <td>North York</td>\n      <td>Victoria Village</td>\n    </tr>\n    <tr>\n      <th>2</th>\n      <td>M5A</td>\n      <td>Downtown Toronto</td>\n      <td>Harbourfront</td>\n    </tr>\n    <tr>\n      <th>3</th>\n      <td>M5A</td>\n      <td>Downtown Toronto</td>\n      <td>Regent Park</td>\n    </tr>\n    <tr>\n      <th>4</th>\n      <td>M6A</td>\n      <td>North York</td>\n      <td>Lawrence Heights</td>\n    </tr>\n  </tbody>\n</table>\n</div>", 
                        "text/plain": "  Postcode           Borough      Neighborhood\n0      M3A        North York         Parkwoods\n1      M4A        North York  Victoria Village\n2      M5A  Downtown Toronto      Harbourfront\n3      M5A  Downtown Toronto       Regent Park\n4      M6A        North York  Lawrence Heights"
                    }, 
                    "output_type": "execute_result"
                }
            ], 
            "source": "# Remove boroughs with 'not assigned' \n\ndf_pcode1 = df_pcode[df_pcode.Borough.str.contains(\"Not assigned\") == False]\n\n# Reset index\n\ndf_pcode2 = df_pcode1.reset_index()\ndf_pcode3 = df_pcode2.drop(df_pcode2.columns[0],axis=1)\ndf_pcode3.head()"
        }, 
        {
            "execution_count": 5, 
            "cell_type": "code", 
            "metadata": {}, 
            "outputs": [
                {
                    "execution_count": 5, 
                    "metadata": {}, 
                    "data": {
                        "text/html": "<div>\n<style scoped>\n    .dataframe tbody tr th:only-of-type {\n        vertical-align: middle;\n    }\n\n    .dataframe tbody tr th {\n        vertical-align: top;\n    }\n\n    .dataframe thead th {\n        text-align: right;\n    }\n</style>\n<table border=\"1\" class=\"dataframe\">\n  <thead>\n    <tr style=\"text-align: right;\">\n      <th></th>\n      <th>Postcode</th>\n      <th>Borough</th>\n      <th>Neighborhood</th>\n    </tr>\n  </thead>\n  <tbody>\n    <tr>\n      <th>0</th>\n      <td>M1B</td>\n      <td>Scarborough</td>\n      <td>Rouge, Malvern</td>\n    </tr>\n    <tr>\n      <th>1</th>\n      <td>M1C</td>\n      <td>Scarborough</td>\n      <td>Highland Creek, Rouge Hill, Port Union</td>\n    </tr>\n    <tr>\n      <th>2</th>\n      <td>M1E</td>\n      <td>Scarborough</td>\n      <td>Guildwood, Morningside, West Hill</td>\n    </tr>\n    <tr>\n      <th>3</th>\n      <td>M1G</td>\n      <td>Scarborough</td>\n      <td>Woburn</td>\n    </tr>\n    <tr>\n      <th>4</th>\n      <td>M1H</td>\n      <td>Scarborough</td>\n      <td>Cedarbrae</td>\n    </tr>\n  </tbody>\n</table>\n</div>", 
                        "text/plain": "  Postcode      Borough                            Neighborhood\n0      M1B  Scarborough                          Rouge, Malvern\n1      M1C  Scarborough  Highland Creek, Rouge Hill, Port Union\n2      M1E  Scarborough       Guildwood, Morningside, West Hill\n3      M1G  Scarborough                                  Woburn\n4      M1H  Scarborough                               Cedarbrae"
                    }, 
                    "output_type": "execute_result"
                }
            ], 
            "source": "# Combine rows with the same Postcode & Borough\n\ndf_pcode4 = df_pcode3.groupby(['Postcode', 'Borough'])['Neighborhood'].apply(', '.join).reset_index()\ndf_pcode4.head()"
        }, 
        {
            "execution_count": 6, 
            "cell_type": "code", 
            "metadata": {}, 
            "outputs": [
                {
                    "execution_count": 6, 
                    "metadata": {}, 
                    "data": {
                        "text/html": "<div>\n<style scoped>\n    .dataframe tbody tr th:only-of-type {\n        vertical-align: middle;\n    }\n\n    .dataframe tbody tr th {\n        vertical-align: top;\n    }\n\n    .dataframe thead th {\n        text-align: right;\n    }\n</style>\n<table border=\"1\" class=\"dataframe\">\n  <thead>\n    <tr style=\"text-align: right;\">\n      <th></th>\n      <th>Postcode</th>\n      <th>Borough</th>\n      <th>Neighborhood</th>\n    </tr>\n  </thead>\n  <tbody>\n    <tr>\n      <th>0</th>\n      <td>M1B</td>\n      <td>Scarborough</td>\n      <td>Rouge, Malvern</td>\n    </tr>\n    <tr>\n      <th>1</th>\n      <td>M1C</td>\n      <td>Scarborough</td>\n      <td>Highland Creek, Rouge Hill, Port Union</td>\n    </tr>\n    <tr>\n      <th>2</th>\n      <td>M1E</td>\n      <td>Scarborough</td>\n      <td>Guildwood, Morningside, West Hill</td>\n    </tr>\n    <tr>\n      <th>3</th>\n      <td>M1G</td>\n      <td>Scarborough</td>\n      <td>Woburn</td>\n    </tr>\n    <tr>\n      <th>4</th>\n      <td>M1H</td>\n      <td>Scarborough</td>\n      <td>Cedarbrae</td>\n    </tr>\n  </tbody>\n</table>\n</div>", 
                        "text/plain": "  Postcode      Borough                            Neighborhood\n0      M1B  Scarborough                          Rouge, Malvern\n1      M1C  Scarborough  Highland Creek, Rouge Hill, Port Union\n2      M1E  Scarborough       Guildwood, Morningside, West Hill\n3      M1G  Scarborough                                  Woburn\n4      M1H  Scarborough                               Cedarbrae"
                    }, 
                    "output_type": "execute_result"
                }
            ], 
            "source": "# If a cell has a borough but a Not assigned neighborhood, then assign the neighborhood cell the same as the borough.\n\nrow=0\nfor row in range(103):\n    if df_pcode4.Neighborhood[row]=='Not assigned':\n        df_pcode4.Neighborhood[row] = df_pcode4.Borough[row]\n        row=row+1\n    \ndf_pcode4.head()"
        }, 
        {
            "execution_count": 7, 
            "cell_type": "code", 
            "metadata": {}, 
            "outputs": [
                {
                    "execution_count": 7, 
                    "metadata": {}, 
                    "data": {
                        "text/plain": "(103, 3)"
                    }, 
                    "output_type": "execute_result"
                }
            ], 
            "source": "# size of the dataframe\ndf_pcode4.shape"
        }, 
        {
            "source": "## Add the latitude and the longitude coordinates of each neighborhood\n", 
            "cell_type": "markdown", 
            "metadata": {}
        }, 
        {
            "execution_count": 8, 
            "cell_type": "code", 
            "metadata": {}, 
            "outputs": [
                {
                    "output_type": "stream", 
                    "name": "stdout", 
                    "text": "Collecting geocoder\n  Downloading https://files.pythonhosted.org/packages/4f/6b/13166c909ad2f2d76b929a4227c952630ebaf0d729f6317eb09cbceccbab/geocoder-1.38.1-py2.py3-none-any.whl (98kB)\n\u001b[K    100% |################################| 102kB 3.0MB/s ta 0:00:01\n\u001b[?25hCollecting six (from geocoder)\n  Downloading https://files.pythonhosted.org/packages/67/4b/141a581104b1f6397bfa78ac9d43d8ad29a7ca43ea90a2d863fe3056e86a/six-1.11.0-py2.py3-none-any.whl\nCollecting future (from geocoder)\n  Downloading https://files.pythonhosted.org/packages/00/2b/8d082ddfed935f3608cc61140df6dcbf0edea1bc3ab52fb6c29ae3e81e85/future-0.16.0.tar.gz (824kB)\n\u001b[K    100% |################################| 829kB 936kB/s eta 0:00:01\n\u001b[?25hCollecting click (from geocoder)\n  Downloading https://files.pythonhosted.org/packages/fa/37/45185cb5abbc30d7257104c434fe0b07e5a195a6847506c074527aa599ec/Click-7.0-py2.py3-none-any.whl (81kB)\n\u001b[K    100% |################################| 81kB 1.9MB/s eta 0:00:01\n\u001b[?25hCollecting requests (from geocoder)\n  Downloading https://files.pythonhosted.org/packages/65/47/7e02164a2a3db50ed6d8a6ab1d6d60b69c4c3fdf57a284257925dfc12bda/requests-2.19.1-py2.py3-none-any.whl (91kB)\n\u001b[K    100% |################################| 92kB 2.7MB/s eta 0:00:01\n\u001b[?25hCollecting ratelim (from geocoder)\n  Downloading https://files.pythonhosted.org/packages/f2/98/7e6d147fd16a10a5f821db6e25f192265d6ecca3d82957a4fdd592cad49c/ratelim-0.1.6-py2.py3-none-any.whl\nCollecting chardet<3.1.0,>=3.0.2 (from requests->geocoder)\n  Downloading https://files.pythonhosted.org/packages/bc/a9/01ffebfb562e4274b6487b4bb1ddec7ca55ec7510b22e4c51f14098443b8/chardet-3.0.4-py2.py3-none-any.whl (133kB)\n\u001b[K    100% |################################| 143kB 2.6MB/s eta 0:00:01\n\u001b[?25hCollecting urllib3<1.24,>=1.21.1 (from requests->geocoder)\n  Downloading https://files.pythonhosted.org/packages/bd/c9/6fdd990019071a4a32a5e7cb78a1d92c53851ef4f56f62a3486e6a7d8ffb/urllib3-1.23-py2.py3-none-any.whl (133kB)\n\u001b[K    100% |################################| 143kB 2.8MB/s eta 0:00:01\n\u001b[?25hCollecting idna<2.8,>=2.5 (from requests->geocoder)\n  Downloading https://files.pythonhosted.org/packages/4b/2a/0276479a4b3caeb8a8c1af2f8e4355746a97fab05a372e4a2c6a6b876165/idna-2.7-py2.py3-none-any.whl (58kB)\n\u001b[K    100% |################################| 61kB 2.7MB/s eta 0:00:01\n\u001b[?25hCollecting certifi>=2017.4.17 (from requests->geocoder)\n  Downloading https://files.pythonhosted.org/packages/56/9d/1d02dd80bc4cd955f98980f28c5ee2200e1209292d5f9e9cc8d030d18655/certifi-2018.10.15-py2.py3-none-any.whl (146kB)\n\u001b[K    100% |################################| 153kB 2.7MB/s eta 0:00:01\n\u001b[?25hCollecting decorator (from ratelim->geocoder)\n  Downloading https://files.pythonhosted.org/packages/bc/bb/a24838832ba35baf52f32ab1a49b906b5f82fb7c76b2f6a7e35e140bac30/decorator-4.3.0-py2.py3-none-any.whl\nBuilding wheels for collected packages: future\n  Running setup.py bdist_wheel for future ... \u001b[?25ldone\n\u001b[?25h  Stored in directory: /home/spark/shared/.cache/pip/wheels/bf/c9/a3/c538d90ef17cf7823fa51fc701a7a7a910a80f6a405bf15b1a\nSuccessfully built future\nInstalling collected packages: six, future, click, chardet, urllib3, idna, certifi, requests, decorator, ratelim, geocoder\nSuccessfully installed certifi-2018.10.15 chardet-3.0.4 click-7.0 decorator-4.3.0 future-0.16.0 geocoder-1.38.1 idna-2.7 ratelim-0.1.6 requests-2.19.1 six-1.11.0 urllib3-1.23\n"
                }
            ], 
            "source": "#https://geocoder.readthedocs.io/index.html\n!pip install geocoder"
        }, 
        {
            "execution_count": 9, 
            "cell_type": "code", 
            "metadata": {}, 
            "outputs": [], 
            "source": "import geocoder\nimport time"
        }, 
        {
            "execution_count": 10, 
            "cell_type": "code", 
            "metadata": {}, 
            "outputs": [
                {
                    "execution_count": 10, 
                    "metadata": {}, 
                    "data": {
                        "text/html": "<div>\n<style scoped>\n    .dataframe tbody tr th:only-of-type {\n        vertical-align: middle;\n    }\n\n    .dataframe tbody tr th {\n        vertical-align: top;\n    }\n\n    .dataframe thead th {\n        text-align: right;\n    }\n</style>\n<table border=\"1\" class=\"dataframe\">\n  <thead>\n    <tr style=\"text-align: right;\">\n      <th></th>\n      <th>Postcode</th>\n      <th>Borough</th>\n      <th>Neighborhood</th>\n      <th>Latitude</th>\n      <th>Longitude</th>\n    </tr>\n  </thead>\n  <tbody>\n    <tr>\n      <th>0</th>\n      <td>M1B</td>\n      <td>Scarborough</td>\n      <td>Rouge, Malvern</td>\n      <td>0.0</td>\n      <td>0.0</td>\n    </tr>\n    <tr>\n      <th>1</th>\n      <td>M1C</td>\n      <td>Scarborough</td>\n      <td>Highland Creek, Rouge Hill, Port Union</td>\n      <td>0.0</td>\n      <td>0.0</td>\n    </tr>\n    <tr>\n      <th>2</th>\n      <td>M1E</td>\n      <td>Scarborough</td>\n      <td>Guildwood, Morningside, West Hill</td>\n      <td>0.0</td>\n      <td>0.0</td>\n    </tr>\n    <tr>\n      <th>3</th>\n      <td>M1G</td>\n      <td>Scarborough</td>\n      <td>Woburn</td>\n      <td>0.0</td>\n      <td>0.0</td>\n    </tr>\n    <tr>\n      <th>4</th>\n      <td>M1H</td>\n      <td>Scarborough</td>\n      <td>Cedarbrae</td>\n      <td>0.0</td>\n      <td>0.0</td>\n    </tr>\n  </tbody>\n</table>\n</div>", 
                        "text/plain": "  Postcode      Borough                            Neighborhood  Latitude  \\\n0      M1B  Scarborough                          Rouge, Malvern       0.0   \n1      M1C  Scarborough  Highland Creek, Rouge Hill, Port Union       0.0   \n2      M1E  Scarborough       Guildwood, Morningside, West Hill       0.0   \n3      M1G  Scarborough                                  Woburn       0.0   \n4      M1H  Scarborough                               Cedarbrae       0.0   \n\n   Longitude  \n0        0.0  \n1        0.0  \n2        0.0  \n3        0.0  \n4        0.0  "
                    }, 
                    "output_type": "execute_result"
                }
            ], 
            "source": "# Add columns for Latitude and Longitude\n\ndf_pcode4['Latitude'] = 0.0\ndf_pcode4['Longitude'] = 0.0\ndf_pcode4.head()"
        }, 
        {
            "source": "#### I have used the following code but the used geocoder package doesn't respond. Thus, the provided csv file has been used to populate the geographical coordinates in the dataframe   \n\n\nstart_time=time.time()\nrow=0\nfor row in range(103):\n    print(row)\n    lat_lng_coords = None\n    while(lat_lng_coords is None):\n        g = geocoder.google('{}, Toronto, Ontario'.format(df_pcode4.Postcode[row]))\n        lat_lng_coords = g.latlng\n        \n    print(\"--- %s seconds ---\" % round((time.time() - start_time), 2))\n    df_pcode4.Latitude[row] = lat_lng_coords[0]\n    df_pcode4.Longitude[row] = lat_lng_coords[1]\n    row=row+1\n    \ndf_pcode4", 
            "cell_type": "markdown", 
            "metadata": {}
        }, 
        {
            "execution_count": 11, 
            "cell_type": "code", 
            "metadata": {}, 
            "outputs": [
                {
                    "output_type": "stream", 
                    "name": "stdout", 
                    "text": "--2018-10-17 06:57:24--  http://cocl.us/Geospatial_data\nResolving cocl.us (cocl.us)... 169.48.113.201\nConnecting to cocl.us (cocl.us)|169.48.113.201|:80... connected.\nHTTP request sent, awaiting response... 301 Moved Permanently\nLocation: https://cocl.us/Geospatial_data [following]\n--2018-10-17 06:57:24--  https://cocl.us/Geospatial_data\nConnecting to cocl.us (cocl.us)|169.48.113.201|:443... connected.\nHTTP request sent, awaiting response... 301 Moved Permanently\nLocation: https://ibm.box.com/shared/static/9afzr83pps4pwf2smjjcf1y5mvgb18rr.csv [following]\n--2018-10-17 06:57:24--  https://ibm.box.com/shared/static/9afzr83pps4pwf2smjjcf1y5mvgb18rr.csv\nResolving ibm.box.com (ibm.box.com)... 107.152.26.197\nConnecting to ibm.box.com (ibm.box.com)|107.152.26.197|:443... connected.\nHTTP request sent, awaiting response... 301 Moved Permanently\nLocation: https://ibm.ent.box.com/shared/static/9afzr83pps4pwf2smjjcf1y5mvgb18rr.csv [following]\n--2018-10-17 06:57:25--  https://ibm.ent.box.com/shared/static/9afzr83pps4pwf2smjjcf1y5mvgb18rr.csv\nResolving ibm.ent.box.com (ibm.ent.box.com)... 107.152.24.211, 107.152.25.211\nConnecting to ibm.ent.box.com (ibm.ent.box.com)|107.152.24.211|:443... connected.\nHTTP request sent, awaiting response... 302 Found\nLocation: https://public.boxcloud.com/d/1/b1!zRr9qEUOB9V9g7bqJcGNjIr7TLuhpTED_bEiSou9YodOW3X0YsSkqKQJN-Z4KrA4GvEMY2Eg8bpOiX3p6ASlzdDkMV0e5RwDq-SRc_S_e2CQksYOCoseJRKd0K6v0CzGZbaXTNTGnkAXxmumtAWp-8VtRrRDstSzCoGM2x5vhY0fW1Rq6DNt8UhVMuVRI5OoRtHRsqME1E3J3_yeNbPsK7nzLF-o1XH4GIKFppeRAGDeWu-d9vIC8aA757iGv8yPsnJr20rDrIq-_e8hBZsXMoytc2Otk5nZc6-Ey-IZJl9yxsEDRB4JBniXVCPiUPMMHO9iZzdfRD_ZCBjPwpXFBH7v_pKtVfr8LKYdhg75pYwIbz4tHASm32jBlTImJofl-DbEAnKXje7sTnSDvlq3vGurNokJ9KZTmFX3z21jmW2_DR3xziIsQ8ekTHtww_1R5sVujc8F52IaDHHFmEx066M2TQmouSLja0C1Sak8XmksP1ZTgbKxzxyHkBd9TED9K89E3TG34Kqyq_3DOaTnWai_mybG9yYj9nXjsbvi4UzbT4vWHct0q_wK_MU5sTySL1jjYOJkS31lo8p_ernvXPDRrnZkCgUKkxfNyfzqvyw0o5ag-LwClJQp8I98mgBS3S2WM_SCCOSkB4n4zqO5rogwQGFOow9in5J19x4UBNykzCHjnJn2oe0Rp3PsPP9grsoscOuV6wS1kRlqc-jKNp29eSng_iH0UvHJrWsYax5LmHkRCbh5f5ktJM71HT2xtA8aUzthwQ9gR7hOMgiUpXWjrR5TN8ZoNstI9z1jP5dt_khOUL1sgXb8YagNCT0241fzj1nME0iNVT9j_XfZhXI79Gl13VfvI_y4pteusgj-yxE8BaQW0EWZ8HwIz3PssdMfYDCdPFCDL3Xrwy6BHAxzINyAe_SF2hGKhBTXS4TXVCZ9hUnAFVutHgKPPKR-RFufA1ZukfGsdiG6aIEXywZt9j0b5rsHMRkR-PEj4ygZIfRePJ8pm7evirF924SZSGfcOkdkJqoqhmBvGAw909WcD8a3IgPv71s6P4z8MesT_BYWjSmXnjxUoYLseEbdh0kzupQ6_2Krgs2w8dup8PjPPiXJZfkUmjiK4YKeZSRpq35Tt_dNbliLrW02hlHPjAdleKgj-goJVbT3fM9Y_LI8X0EcYliqpjCra3jtX2mPXzsI3cP7wTdhA9KppTyk4m-Xus8X85s3hT4hBlUbuCSuSNVMT5zh-IUQyMr-jRDFwSqgQtc41WHHtZX9Sa3wvsRZqrwMrROqs6lo_ToI5TP6Cl8SoEg6plpOfGe77K6SD5kqhSuiK5YW33yloLNvb88PskY./download [following]\n--2018-10-17 06:57:25--  https://public.boxcloud.com/d/1/b1!zRr9qEUOB9V9g7bqJcGNjIr7TLuhpTED_bEiSou9YodOW3X0YsSkqKQJN-Z4KrA4GvEMY2Eg8bpOiX3p6ASlzdDkMV0e5RwDq-SRc_S_e2CQksYOCoseJRKd0K6v0CzGZbaXTNTGnkAXxmumtAWp-8VtRrRDstSzCoGM2x5vhY0fW1Rq6DNt8UhVMuVRI5OoRtHRsqME1E3J3_yeNbPsK7nzLF-o1XH4GIKFppeRAGDeWu-d9vIC8aA757iGv8yPsnJr20rDrIq-_e8hBZsXMoytc2Otk5nZc6-Ey-IZJl9yxsEDRB4JBniXVCPiUPMMHO9iZzdfRD_ZCBjPwpXFBH7v_pKtVfr8LKYdhg75pYwIbz4tHASm32jBlTImJofl-DbEAnKXje7sTnSDvlq3vGurNokJ9KZTmFX3z21jmW2_DR3xziIsQ8ekTHtww_1R5sVujc8F52IaDHHFmEx066M2TQmouSLja0C1Sak8XmksP1ZTgbKxzxyHkBd9TED9K89E3TG34Kqyq_3DOaTnWai_mybG9yYj9nXjsbvi4UzbT4vWHct0q_wK_MU5sTySL1jjYOJkS31lo8p_ernvXPDRrnZkCgUKkxfNyfzqvyw0o5ag-LwClJQp8I98mgBS3S2WM_SCCOSkB4n4zqO5rogwQGFOow9in5J19x4UBNykzCHjnJn2oe0Rp3PsPP9grsoscOuV6wS1kRlqc-jKNp29eSng_iH0UvHJrWsYax5LmHkRCbh5f5ktJM71HT2xtA8aUzthwQ9gR7hOMgiUpXWjrR5TN8ZoNstI9z1jP5dt_khOUL1sgXb8YagNCT0241fzj1nME0iNVT9j_XfZhXI79Gl13VfvI_y4pteusgj-yxE8BaQW0EWZ8HwIz3PssdMfYDCdPFCDL3Xrwy6BHAxzINyAe_SF2hGKhBTXS4TXVCZ9hUnAFVutHgKPPKR-RFufA1ZukfGsdiG6aIEXywZt9j0b5rsHMRkR-PEj4ygZIfRePJ8pm7evirF924SZSGfcOkdkJqoqhmBvGAw909WcD8a3IgPv71s6P4z8MesT_BYWjSmXnjxUoYLseEbdh0kzupQ6_2Krgs2w8dup8PjPPiXJZfkUmjiK4YKeZSRpq35Tt_dNbliLrW02hlHPjAdleKgj-goJVbT3fM9Y_LI8X0EcYliqpjCra3jtX2mPXzsI3cP7wTdhA9KppTyk4m-Xus8X85s3hT4hBlUbuCSuSNVMT5zh-IUQyMr-jRDFwSqgQtc41WHHtZX9Sa3wvsRZqrwMrROqs6lo_ToI5TP6Cl8SoEg6plpOfGe77K6SD5kqhSuiK5YW33yloLNvb88PskY./download\nResolving public.boxcloud.com (public.boxcloud.com)... 107.152.26.200\nConnecting to public.boxcloud.com (public.boxcloud.com)|107.152.26.200|:443... connected.\nHTTP request sent, awaiting response... 200 OK\nLength: 2891 (2.8K) [text/csv]\nSaving to: 'latlog.csv'\n\nlatlog.csv          100%[===================>]   2.82K  --.-KB/s    in 0s      \n\n2018-10-17 06:57:25 (154 MB/s) - 'latlog.csv' saved [2891/2891]\n\n"
                }
            ], 
            "source": "# download the csv file of longitude and latitude\n\n!wget -O latlog.csv http://cocl.us/Geospatial_data"
        }, 
        {
            "execution_count": 12, 
            "cell_type": "code", 
            "metadata": {}, 
            "outputs": [
                {
                    "execution_count": 12, 
                    "metadata": {}, 
                    "data": {
                        "text/html": "<div>\n<style scoped>\n    .dataframe tbody tr th:only-of-type {\n        vertical-align: middle;\n    }\n\n    .dataframe tbody tr th {\n        vertical-align: top;\n    }\n\n    .dataframe thead th {\n        text-align: right;\n    }\n</style>\n<table border=\"1\" class=\"dataframe\">\n  <thead>\n    <tr style=\"text-align: right;\">\n      <th></th>\n      <th>Postcode</th>\n      <th>Borough</th>\n      <th>Neighborhood</th>\n      <th>Latitude</th>\n      <th>Longitude</th>\n    </tr>\n  </thead>\n  <tbody>\n    <tr>\n      <th>0</th>\n      <td>M1B</td>\n      <td>Scarborough</td>\n      <td>Rouge, Malvern</td>\n      <td>43.806686</td>\n      <td>-79.194353</td>\n    </tr>\n    <tr>\n      <th>1</th>\n      <td>M1C</td>\n      <td>Scarborough</td>\n      <td>Highland Creek, Rouge Hill, Port Union</td>\n      <td>43.784535</td>\n      <td>-79.160497</td>\n    </tr>\n    <tr>\n      <th>2</th>\n      <td>M1E</td>\n      <td>Scarborough</td>\n      <td>Guildwood, Morningside, West Hill</td>\n      <td>43.763573</td>\n      <td>-79.188711</td>\n    </tr>\n    <tr>\n      <th>3</th>\n      <td>M1G</td>\n      <td>Scarborough</td>\n      <td>Woburn</td>\n      <td>43.770992</td>\n      <td>-79.216917</td>\n    </tr>\n    <tr>\n      <th>4</th>\n      <td>M1H</td>\n      <td>Scarborough</td>\n      <td>Cedarbrae</td>\n      <td>43.773136</td>\n      <td>-79.239476</td>\n    </tr>\n    <tr>\n      <th>5</th>\n      <td>M1J</td>\n      <td>Scarborough</td>\n      <td>Scarborough Village</td>\n      <td>43.744734</td>\n      <td>-79.239476</td>\n    </tr>\n    <tr>\n      <th>6</th>\n      <td>M1K</td>\n      <td>Scarborough</td>\n      <td>East Birchmount Park, Ionview, Kennedy Park</td>\n      <td>43.727929</td>\n      <td>-79.262029</td>\n    </tr>\n    <tr>\n      <th>7</th>\n      <td>M1L</td>\n      <td>Scarborough</td>\n      <td>Clairlea, Golden Mile, Oakridge</td>\n      <td>43.711112</td>\n      <td>-79.284577</td>\n    </tr>\n    <tr>\n      <th>8</th>\n      <td>M1M</td>\n      <td>Scarborough</td>\n      <td>Cliffcrest, Cliffside, Scarborough Village West</td>\n      <td>43.716316</td>\n      <td>-79.239476</td>\n    </tr>\n    <tr>\n      <th>9</th>\n      <td>M1N</td>\n      <td>Scarborough</td>\n      <td>Birch Cliff, Cliffside West</td>\n      <td>43.692657</td>\n      <td>-79.264848</td>\n    </tr>\n    <tr>\n      <th>10</th>\n      <td>M1P</td>\n      <td>Scarborough</td>\n      <td>Dorset Park, Scarborough Town Centre, Wexford ...</td>\n      <td>43.757410</td>\n      <td>-79.273304</td>\n    </tr>\n    <tr>\n      <th>11</th>\n      <td>M1R</td>\n      <td>Scarborough</td>\n      <td>Maryvale, Wexford</td>\n      <td>43.750072</td>\n      <td>-79.295849</td>\n    </tr>\n    <tr>\n      <th>12</th>\n      <td>M1S</td>\n      <td>Scarborough</td>\n      <td>Agincourt</td>\n      <td>43.794200</td>\n      <td>-79.262029</td>\n    </tr>\n    <tr>\n      <th>13</th>\n      <td>M1T</td>\n      <td>Scarborough</td>\n      <td>Clarks Corners, Sullivan, Tam O'Shanter</td>\n      <td>43.781638</td>\n      <td>-79.304302</td>\n    </tr>\n    <tr>\n      <th>14</th>\n      <td>M1V</td>\n      <td>Scarborough</td>\n      <td>Agincourt North, L'Amoreaux East, Milliken, St...</td>\n      <td>43.815252</td>\n      <td>-79.284577</td>\n    </tr>\n    <tr>\n      <th>15</th>\n      <td>M1W</td>\n      <td>Scarborough</td>\n      <td>L'Amoreaux West, Steeles West</td>\n      <td>43.799525</td>\n      <td>-79.318389</td>\n    </tr>\n    <tr>\n      <th>16</th>\n      <td>M1X</td>\n      <td>Scarborough</td>\n      <td>Upper Rouge</td>\n      <td>43.836125</td>\n      <td>-79.205636</td>\n    </tr>\n    <tr>\n      <th>17</th>\n      <td>M2H</td>\n      <td>North York</td>\n      <td>Hillcrest Village</td>\n      <td>43.803762</td>\n      <td>-79.363452</td>\n    </tr>\n    <tr>\n      <th>18</th>\n      <td>M2J</td>\n      <td>North York</td>\n      <td>Fairview, Henry Farm, Oriole</td>\n      <td>43.778517</td>\n      <td>-79.346556</td>\n    </tr>\n    <tr>\n      <th>19</th>\n      <td>M2K</td>\n      <td>North York</td>\n      <td>Bayview Village</td>\n      <td>43.786947</td>\n      <td>-79.385975</td>\n    </tr>\n    <tr>\n      <th>20</th>\n      <td>M2L</td>\n      <td>North York</td>\n      <td>Silver Hills, York Mills</td>\n      <td>43.757490</td>\n      <td>-79.374714</td>\n    </tr>\n    <tr>\n      <th>21</th>\n      <td>M2M</td>\n      <td>North York</td>\n      <td>Newtonbrook, Willowdale</td>\n      <td>43.789053</td>\n      <td>-79.408493</td>\n    </tr>\n    <tr>\n      <th>22</th>\n      <td>M2N</td>\n      <td>North York</td>\n      <td>Willowdale South</td>\n      <td>43.770120</td>\n      <td>-79.408493</td>\n    </tr>\n    <tr>\n      <th>23</th>\n      <td>M2P</td>\n      <td>North York</td>\n      <td>York Mills West</td>\n      <td>43.752758</td>\n      <td>-79.400049</td>\n    </tr>\n    <tr>\n      <th>24</th>\n      <td>M2R</td>\n      <td>North York</td>\n      <td>Willowdale West</td>\n      <td>43.782736</td>\n      <td>-79.442259</td>\n    </tr>\n    <tr>\n      <th>25</th>\n      <td>M3A</td>\n      <td>North York</td>\n      <td>Parkwoods</td>\n      <td>43.753259</td>\n      <td>-79.329656</td>\n    </tr>\n    <tr>\n      <th>26</th>\n      <td>M3B</td>\n      <td>North York</td>\n      <td>Don Mills North</td>\n      <td>43.745906</td>\n      <td>-79.352188</td>\n    </tr>\n    <tr>\n      <th>27</th>\n      <td>M3C</td>\n      <td>North York</td>\n      <td>Flemingdon Park, Don Mills South</td>\n      <td>43.725900</td>\n      <td>-79.340923</td>\n    </tr>\n    <tr>\n      <th>28</th>\n      <td>M3H</td>\n      <td>North York</td>\n      <td>Bathurst Manor, Downsview North, Wilson Heights</td>\n      <td>43.754328</td>\n      <td>-79.442259</td>\n    </tr>\n    <tr>\n      <th>29</th>\n      <td>M3J</td>\n      <td>North York</td>\n      <td>Northwood Park, York University</td>\n      <td>43.767980</td>\n      <td>-79.487262</td>\n    </tr>\n    <tr>\n      <th>...</th>\n      <td>...</td>\n      <td>...</td>\n      <td>...</td>\n      <td>...</td>\n      <td>...</td>\n    </tr>\n    <tr>\n      <th>73</th>\n      <td>M6C</td>\n      <td>York</td>\n      <td>Humewood-Cedarvale</td>\n      <td>43.693781</td>\n      <td>-79.428191</td>\n    </tr>\n    <tr>\n      <th>74</th>\n      <td>M6E</td>\n      <td>York</td>\n      <td>Caledonia-Fairbanks</td>\n      <td>43.689026</td>\n      <td>-79.453512</td>\n    </tr>\n    <tr>\n      <th>75</th>\n      <td>M6G</td>\n      <td>Downtown Toronto</td>\n      <td>Christie</td>\n      <td>43.669542</td>\n      <td>-79.422564</td>\n    </tr>\n    <tr>\n      <th>76</th>\n      <td>M6H</td>\n      <td>West Toronto</td>\n      <td>Dovercourt Village, Dufferin</td>\n      <td>43.669005</td>\n      <td>-79.442259</td>\n    </tr>\n    <tr>\n      <th>77</th>\n      <td>M6J</td>\n      <td>West Toronto</td>\n      <td>Little Portugal, Trinity</td>\n      <td>43.647927</td>\n      <td>-79.419750</td>\n    </tr>\n    <tr>\n      <th>78</th>\n      <td>M6K</td>\n      <td>West Toronto</td>\n      <td>Brockton, Exhibition Place, Parkdale Village</td>\n      <td>43.636847</td>\n      <td>-79.428191</td>\n    </tr>\n    <tr>\n      <th>79</th>\n      <td>M6L</td>\n      <td>North York</td>\n      <td>Maple Leaf Park, North Park, Upwood Park</td>\n      <td>43.713756</td>\n      <td>-79.490074</td>\n    </tr>\n    <tr>\n      <th>80</th>\n      <td>M6M</td>\n      <td>York</td>\n      <td>Del Ray, Keelsdale, Mount Dennis, Silverthorn</td>\n      <td>43.691116</td>\n      <td>-79.476013</td>\n    </tr>\n    <tr>\n      <th>81</th>\n      <td>M6N</td>\n      <td>York</td>\n      <td>The Junction North, Runnymede</td>\n      <td>43.673185</td>\n      <td>-79.487262</td>\n    </tr>\n    <tr>\n      <th>82</th>\n      <td>M6P</td>\n      <td>West Toronto</td>\n      <td>High Park, The Junction South</td>\n      <td>43.661608</td>\n      <td>-79.464763</td>\n    </tr>\n    <tr>\n      <th>83</th>\n      <td>M6R</td>\n      <td>West Toronto</td>\n      <td>Parkdale, Roncesvalles</td>\n      <td>43.648960</td>\n      <td>-79.456325</td>\n    </tr>\n    <tr>\n      <th>84</th>\n      <td>M6S</td>\n      <td>West Toronto</td>\n      <td>Runnymede, Swansea</td>\n      <td>43.651571</td>\n      <td>-79.484450</td>\n    </tr>\n    <tr>\n      <th>85</th>\n      <td>M7A</td>\n      <td>Queen's Park</td>\n      <td>Queen's Park</td>\n      <td>43.662301</td>\n      <td>-79.389494</td>\n    </tr>\n    <tr>\n      <th>86</th>\n      <td>M7R</td>\n      <td>Mississauga</td>\n      <td>Canada Post Gateway Processing Centre</td>\n      <td>43.636966</td>\n      <td>-79.615819</td>\n    </tr>\n    <tr>\n      <th>87</th>\n      <td>M7Y</td>\n      <td>East Toronto</td>\n      <td>Business reply mail Processing Centre969 Eastern</td>\n      <td>43.662744</td>\n      <td>-79.321558</td>\n    </tr>\n    <tr>\n      <th>88</th>\n      <td>M8V</td>\n      <td>Etobicoke</td>\n      <td>Humber Bay Shores, Mimico South, New Toronto</td>\n      <td>43.605647</td>\n      <td>-79.501321</td>\n    </tr>\n    <tr>\n      <th>89</th>\n      <td>M8W</td>\n      <td>Etobicoke</td>\n      <td>Alderwood, Long Branch</td>\n      <td>43.602414</td>\n      <td>-79.543484</td>\n    </tr>\n    <tr>\n      <th>90</th>\n      <td>M8X</td>\n      <td>Etobicoke</td>\n      <td>The Kingsway, Montgomery Road, Old Mill North</td>\n      <td>43.653654</td>\n      <td>-79.506944</td>\n    </tr>\n    <tr>\n      <th>91</th>\n      <td>M8Y</td>\n      <td>Etobicoke</td>\n      <td>Humber Bay, King's Mill Park, Kingsway Park So...</td>\n      <td>43.636258</td>\n      <td>-79.498509</td>\n    </tr>\n    <tr>\n      <th>92</th>\n      <td>M8Z</td>\n      <td>Etobicoke</td>\n      <td>Kingsway Park South West, Mimico NW, The Queen...</td>\n      <td>43.628841</td>\n      <td>-79.520999</td>\n    </tr>\n    <tr>\n      <th>93</th>\n      <td>M9A</td>\n      <td>Etobicoke</td>\n      <td>Islington Avenue</td>\n      <td>43.667856</td>\n      <td>-79.532242</td>\n    </tr>\n    <tr>\n      <th>94</th>\n      <td>M9B</td>\n      <td>Etobicoke</td>\n      <td>Cloverdale, Islington, Martin Grove, Princess ...</td>\n      <td>43.650943</td>\n      <td>-79.554724</td>\n    </tr>\n    <tr>\n      <th>95</th>\n      <td>M9C</td>\n      <td>Etobicoke</td>\n      <td>Bloordale Gardens, Eringate, Markland Wood, Ol...</td>\n      <td>43.643515</td>\n      <td>-79.577201</td>\n    </tr>\n    <tr>\n      <th>96</th>\n      <td>M9L</td>\n      <td>North York</td>\n      <td>Humber Summit</td>\n      <td>43.756303</td>\n      <td>-79.565963</td>\n    </tr>\n    <tr>\n      <th>97</th>\n      <td>M9M</td>\n      <td>North York</td>\n      <td>Emery, Humberlea</td>\n      <td>43.724766</td>\n      <td>-79.532242</td>\n    </tr>\n    <tr>\n      <th>98</th>\n      <td>M9N</td>\n      <td>York</td>\n      <td>Weston</td>\n      <td>43.706876</td>\n      <td>-79.518188</td>\n    </tr>\n    <tr>\n      <th>99</th>\n      <td>M9P</td>\n      <td>Etobicoke</td>\n      <td>Westmount</td>\n      <td>43.696319</td>\n      <td>-79.532242</td>\n    </tr>\n    <tr>\n      <th>100</th>\n      <td>M9R</td>\n      <td>Etobicoke</td>\n      <td>Kingsview Village, Martin Grove Gardens, Richv...</td>\n      <td>43.688905</td>\n      <td>-79.554724</td>\n    </tr>\n    <tr>\n      <th>101</th>\n      <td>M9V</td>\n      <td>Etobicoke</td>\n      <td>Albion Gardens, Beaumond Heights, Humbergate, ...</td>\n      <td>43.739416</td>\n      <td>-79.588437</td>\n    </tr>\n    <tr>\n      <th>102</th>\n      <td>M9W</td>\n      <td>Etobicoke</td>\n      <td>Northwest</td>\n      <td>43.706748</td>\n      <td>-79.594054</td>\n    </tr>\n  </tbody>\n</table>\n<p>103 rows \u00d7 5 columns</p>\n</div>", 
                        "text/plain": "    Postcode           Borough  \\\n0        M1B       Scarborough   \n1        M1C       Scarborough   \n2        M1E       Scarborough   \n3        M1G       Scarborough   \n4        M1H       Scarborough   \n5        M1J       Scarborough   \n6        M1K       Scarborough   \n7        M1L       Scarborough   \n8        M1M       Scarborough   \n9        M1N       Scarborough   \n10       M1P       Scarborough   \n11       M1R       Scarborough   \n12       M1S       Scarborough   \n13       M1T       Scarborough   \n14       M1V       Scarborough   \n15       M1W       Scarborough   \n16       M1X       Scarborough   \n17       M2H        North York   \n18       M2J        North York   \n19       M2K        North York   \n20       M2L        North York   \n21       M2M        North York   \n22       M2N        North York   \n23       M2P        North York   \n24       M2R        North York   \n25       M3A        North York   \n26       M3B        North York   \n27       M3C        North York   \n28       M3H        North York   \n29       M3J        North York   \n..       ...               ...   \n73       M6C              York   \n74       M6E              York   \n75       M6G  Downtown Toronto   \n76       M6H      West Toronto   \n77       M6J      West Toronto   \n78       M6K      West Toronto   \n79       M6L        North York   \n80       M6M              York   \n81       M6N              York   \n82       M6P      West Toronto   \n83       M6R      West Toronto   \n84       M6S      West Toronto   \n85       M7A      Queen's Park   \n86       M7R       Mississauga   \n87       M7Y      East Toronto   \n88       M8V         Etobicoke   \n89       M8W         Etobicoke   \n90       M8X         Etobicoke   \n91       M8Y         Etobicoke   \n92       M8Z         Etobicoke   \n93       M9A         Etobicoke   \n94       M9B         Etobicoke   \n95       M9C         Etobicoke   \n96       M9L        North York   \n97       M9M        North York   \n98       M9N              York   \n99       M9P         Etobicoke   \n100      M9R         Etobicoke   \n101      M9V         Etobicoke   \n102      M9W         Etobicoke   \n\n                                          Neighborhood   Latitude  Longitude  \n0                                       Rouge, Malvern  43.806686 -79.194353  \n1               Highland Creek, Rouge Hill, Port Union  43.784535 -79.160497  \n2                    Guildwood, Morningside, West Hill  43.763573 -79.188711  \n3                                               Woburn  43.770992 -79.216917  \n4                                            Cedarbrae  43.773136 -79.239476  \n5                                  Scarborough Village  43.744734 -79.239476  \n6          East Birchmount Park, Ionview, Kennedy Park  43.727929 -79.262029  \n7                      Clairlea, Golden Mile, Oakridge  43.711112 -79.284577  \n8      Cliffcrest, Cliffside, Scarborough Village West  43.716316 -79.239476  \n9                          Birch Cliff, Cliffside West  43.692657 -79.264848  \n10   Dorset Park, Scarborough Town Centre, Wexford ...  43.757410 -79.273304  \n11                                   Maryvale, Wexford  43.750072 -79.295849  \n12                                           Agincourt  43.794200 -79.262029  \n13             Clarks Corners, Sullivan, Tam O'Shanter  43.781638 -79.304302  \n14   Agincourt North, L'Amoreaux East, Milliken, St...  43.815252 -79.284577  \n15                       L'Amoreaux West, Steeles West  43.799525 -79.318389  \n16                                         Upper Rouge  43.836125 -79.205636  \n17                                   Hillcrest Village  43.803762 -79.363452  \n18                        Fairview, Henry Farm, Oriole  43.778517 -79.346556  \n19                                     Bayview Village  43.786947 -79.385975  \n20                            Silver Hills, York Mills  43.757490 -79.374714  \n21                             Newtonbrook, Willowdale  43.789053 -79.408493  \n22                                    Willowdale South  43.770120 -79.408493  \n23                                     York Mills West  43.752758 -79.400049  \n24                                     Willowdale West  43.782736 -79.442259  \n25                                           Parkwoods  43.753259 -79.329656  \n26                                     Don Mills North  43.745906 -79.352188  \n27                    Flemingdon Park, Don Mills South  43.725900 -79.340923  \n28     Bathurst Manor, Downsview North, Wilson Heights  43.754328 -79.442259  \n29                     Northwood Park, York University  43.767980 -79.487262  \n..                                                 ...        ...        ...  \n73                                  Humewood-Cedarvale  43.693781 -79.428191  \n74                                 Caledonia-Fairbanks  43.689026 -79.453512  \n75                                            Christie  43.669542 -79.422564  \n76                        Dovercourt Village, Dufferin  43.669005 -79.442259  \n77                            Little Portugal, Trinity  43.647927 -79.419750  \n78        Brockton, Exhibition Place, Parkdale Village  43.636847 -79.428191  \n79            Maple Leaf Park, North Park, Upwood Park  43.713756 -79.490074  \n80       Del Ray, Keelsdale, Mount Dennis, Silverthorn  43.691116 -79.476013  \n81                       The Junction North, Runnymede  43.673185 -79.487262  \n82                       High Park, The Junction South  43.661608 -79.464763  \n83                              Parkdale, Roncesvalles  43.648960 -79.456325  \n84                                  Runnymede, Swansea  43.651571 -79.484450  \n85                                        Queen's Park  43.662301 -79.389494  \n86               Canada Post Gateway Processing Centre  43.636966 -79.615819  \n87    Business reply mail Processing Centre969 Eastern  43.662744 -79.321558  \n88        Humber Bay Shores, Mimico South, New Toronto  43.605647 -79.501321  \n89                              Alderwood, Long Branch  43.602414 -79.543484  \n90       The Kingsway, Montgomery Road, Old Mill North  43.653654 -79.506944  \n91   Humber Bay, King's Mill Park, Kingsway Park So...  43.636258 -79.498509  \n92   Kingsway Park South West, Mimico NW, The Queen...  43.628841 -79.520999  \n93                                    Islington Avenue  43.667856 -79.532242  \n94   Cloverdale, Islington, Martin Grove, Princess ...  43.650943 -79.554724  \n95   Bloordale Gardens, Eringate, Markland Wood, Ol...  43.643515 -79.577201  \n96                                       Humber Summit  43.756303 -79.565963  \n97                                    Emery, Humberlea  43.724766 -79.532242  \n98                                              Weston  43.706876 -79.518188  \n99                                           Westmount  43.696319 -79.532242  \n100  Kingsview Village, Martin Grove Gardens, Richv...  43.688905 -79.554724  \n101  Albion Gardens, Beaumond Heights, Humbergate, ...  43.739416 -79.588437  \n102                                          Northwest  43.706748 -79.594054  \n\n[103 rows x 5 columns]"
                    }, 
                    "output_type": "execute_result"
                }
            ], 
            "source": "df_latlog = pd.read_csv(\"latlog.csv\", delimiter=\",\")\ndf_pcode4['Latitude'] = df_latlog[['Latitude']].values\ndf_pcode4['Longitude'] = df_latlog[['Longitude']].values\ndf_pcode4"
        }, 
        {
            "source": "# Exploration and cluster of the neighborhoods in Toronto", 
            "cell_type": "markdown", 
            "metadata": {}
        }, 
        {
            "source": "### Import necessary Libraries\n", 
            "cell_type": "markdown", 
            "metadata": {}
        }, 
        {
            "execution_count": 13, 
            "cell_type": "code", 
            "metadata": {}, 
            "outputs": [
                {
                    "output_type": "stream", 
                    "name": "stdout", 
                    "text": "Solving environment: done\n\n# All requested packages already installed.\n\nSolving environment: done\n\n# All requested packages already installed.\n\nFolium installed\nLibraries imported.\n"
                }
            ], 
            "source": "!conda install -c conda-forge geopy --yes \nfrom geopy.geocoders import Nominatim # module to convert an address into latitude and longitude values\nimport random # library for random number generation\n\n# libraries for displaying images\nfrom IPython.display import Image \nfrom IPython.core.display import HTML \n    \n# tranforming json file into a pandas dataframe library\nfrom pandas.io.json import json_normalize\n\n!conda install -c conda-forge folium=0.5.0 --yes\nimport folium # plotting library\n\nprint('Folium installed')\nprint('Libraries imported.')"
        }, 
        {
            "source": "### Define Foursquare Credentials and Version", 
            "cell_type": "markdown", 
            "metadata": {}
        }, 
        {
            "execution_count": 45, 
            "cell_type": "code", 
            "metadata": {}, 
            "outputs": [], 
            "source": "# The code was removed by Watson Studio for sharing."
        }, 
        {
            "source": "#### I would like to studey at University of student. I am a vegan and would like to explore vegan restaurants nearby Universiity of Toronto. Address of the  downtown Toronto (St. George) campus is 27 Kings College Cir, Toronto, ON.", 
            "cell_type": "markdown", 
            "metadata": {}
        }, 
        {
            "execution_count": 15, 
            "cell_type": "code", 
            "metadata": {}, 
            "outputs": [
                {
                    "output_type": "stream", 
                    "name": "stderr", 
                    "text": "/opt/ibm/conda/miniconda3/lib/python3.5/site-packages/geopy/geocoders/osm.py:143: UserWarning: Using Nominatim with the default \"geopy/1.17.0\" `user_agent` is strongly discouraged, as it violates Nominatim's ToS https://operations.osmfoundation.org/policies/nominatim/ and may possibly cause 403 and 429 HTTP errors. Please specify a custom `user_agent` with `Nominatim(user_agent=\"my-application\")` or by overriding the default `user_agent`: `geopy.geocoders.options.default_user_agent = \"my-application\"`. In geopy 2.0 this will become an exception.\n  UserWarning\n"
                }, 
                {
                    "output_type": "stream", 
                    "name": "stdout", 
                    "text": "43.6607225 -79.3959198095151\n"
                }
            ], 
            "source": "address = '27 Kings College Cir, Toronto, ON'\n\ngeolocator = Nominatim()\nlocation = geolocator.geocode(address)\nlatitude = location.latitude\nlongitude = location.longitude\nprint(latitude, longitude)"
        }, 
        {
            "source": "# 1. Search for a specific venue category ", 
            "cell_type": "markdown", 
            "metadata": {}
        }, 
        {
            "source": "#### The venue catagory is vegan restaurants nearby (within 1000m)Univiversity of Toronto. ", 
            "cell_type": "markdown", 
            "metadata": {}
        }, 
        {
            "execution_count": 16, 
            "cell_type": "code", 
            "metadata": {}, 
            "outputs": [
                {
                    "output_type": "stream", 
                    "name": "stdout", 
                    "text": "Vegan .... OK!\n"
                }
            ], 
            "source": "search_query = 'Vegan'\nradius = 1000\nprint(search_query + ' .... OK!')"
        }, 
        {
            "source": "#### Define the corresponding URL", 
            "cell_type": "markdown", 
            "metadata": {}
        }, 
        {
            "execution_count": 17, 
            "cell_type": "code", 
            "metadata": {}, 
            "outputs": [
                {
                    "execution_count": 17, 
                    "metadata": {}, 
                    "data": {
                        "text/plain": "'https://api.foursquare.com/v2/venues/search?client_id=VY1SPSHUQUTWEU5VHK41W3PNIS34Z5HRMVIV5IHLKYUJCX2H&client_secret=K2YCKM1HC5LVURD45BQZOC1J3I1KDCUFSY1AOMWSOEPFGRR3&ll=43.6607225,-79.3959198095151&v=20180604&query=Vegan&radius=1000&limit=30'"
                    }, 
                    "output_type": "execute_result"
                }
            ], 
            "source": "url = 'https://api.foursquare.com/v2/venues/search?client_id={}&client_secret={}&ll={},{}&v={}&query={}&radius={}&limit={}'.format(CLIENT_ID, CLIENT_SECRET, latitude, longitude, VERSION, search_query, radius, LIMIT)\nurl"
        }, 
        {
            "execution_count": 18, 
            "cell_type": "code", 
            "metadata": {}, 
            "outputs": [
                {
                    "execution_count": 18, 
                    "metadata": {}, 
                    "data": {
                        "text/plain": "{'meta': {'code': 200, 'requestId': '5bc71619f594df1d7c0c8fdf'},\n 'response': {'venues': [{'categories': [{'icon': {'prefix': 'https://ss3.4sqi.net/img/categories_v2/food/vegetarian_',\n       'suffix': '.png'},\n      'id': '4bf58dd8d48988d1d3941735',\n      'name': 'Vegetarian / Vegan Restaurant',\n      'pluralName': 'Vegetarian / Vegan Restaurants',\n      'primary': True,\n      'shortName': 'Vegetarian / Vegan'}],\n    'hasPerk': False,\n    'id': '59e16436ccad6b067efe4383',\n    'location': {'address': '382 College St',\n     'cc': 'CA',\n     'city': 'Toronto',\n     'country': 'Canada',\n     'distance': 861,\n     'formattedAddress': ['382 College St', 'Toronto ON M5T 1S7', 'Canada'],\n     'labeledLatLngs': [{'label': 'display',\n       'lat': 43.657007,\n       'lng': -79.405302}],\n     'lat': 43.657007,\n     'lng': -79.405302,\n     'postalCode': 'M5T 1S7',\n     'state': 'ON'},\n    'name': 'The Hogtown Vegan',\n    'referralId': 'v-1539773977'}]}}"
                    }, 
                    "output_type": "execute_result"
                }
            ], 
            "source": "results = requests.get(url).json()\nresults"
        }, 
        {
            "source": "##### I am sad to learn that there is only one vegan restaurant within 1km radius from Universit of Toronto", 
            "cell_type": "markdown", 
            "metadata": {}
        }, 
        {
            "source": "#### Get relevant part of JSON and transform it into a pandas dataframe", 
            "cell_type": "markdown", 
            "metadata": {}
        }, 
        {
            "execution_count": 19, 
            "cell_type": "code", 
            "metadata": {}, 
            "outputs": [
                {
                    "execution_count": 19, 
                    "metadata": {}, 
                    "data": {
                        "text/html": "<div>\n<style scoped>\n    .dataframe tbody tr th:only-of-type {\n        vertical-align: middle;\n    }\n\n    .dataframe tbody tr th {\n        vertical-align: top;\n    }\n\n    .dataframe thead th {\n        text-align: right;\n    }\n</style>\n<table border=\"1\" class=\"dataframe\">\n  <thead>\n    <tr style=\"text-align: right;\">\n      <th></th>\n      <th>categories</th>\n      <th>hasPerk</th>\n      <th>id</th>\n      <th>location.address</th>\n      <th>location.cc</th>\n      <th>location.city</th>\n      <th>location.country</th>\n      <th>location.distance</th>\n      <th>location.formattedAddress</th>\n      <th>location.labeledLatLngs</th>\n      <th>location.lat</th>\n      <th>location.lng</th>\n      <th>location.postalCode</th>\n      <th>location.state</th>\n      <th>name</th>\n      <th>referralId</th>\n    </tr>\n  </thead>\n  <tbody>\n    <tr>\n      <th>0</th>\n      <td>[{'shortName': 'Vegetarian / Vegan', 'name': '...</td>\n      <td>False</td>\n      <td>59e16436ccad6b067efe4383</td>\n      <td>382 College St</td>\n      <td>CA</td>\n      <td>Toronto</td>\n      <td>Canada</td>\n      <td>861</td>\n      <td>[382 College St, Toronto ON M5T 1S7, Canada]</td>\n      <td>[{'label': 'display', 'lng': -79.405302, 'lat'...</td>\n      <td>43.657007</td>\n      <td>-79.405302</td>\n      <td>M5T 1S7</td>\n      <td>ON</td>\n      <td>The Hogtown Vegan</td>\n      <td>v-1539773977</td>\n    </tr>\n  </tbody>\n</table>\n</div>", 
                        "text/plain": "                                          categories  hasPerk  \\\n0  [{'shortName': 'Vegetarian / Vegan', 'name': '...    False   \n\n                         id location.address location.cc location.city  \\\n0  59e16436ccad6b067efe4383   382 College St          CA       Toronto   \n\n  location.country  location.distance  \\\n0           Canada                861   \n\n                      location.formattedAddress  \\\n0  [382 College St, Toronto ON M5T 1S7, Canada]   \n\n                             location.labeledLatLngs  location.lat  \\\n0  [{'label': 'display', 'lng': -79.405302, 'lat'...     43.657007   \n\n   location.lng location.postalCode location.state               name  \\\n0    -79.405302             M5T 1S7             ON  The Hogtown Vegan   \n\n     referralId  \n0  v-1539773977  "
                    }, 
                    "output_type": "execute_result"
                }
            ], 
            "source": "# assign relevant part of JSON to venues\nvenues = results['response']['venues']\n\n# tranform venues into a dataframe\ndataframe = json_normalize(venues)\ndataframe.head()"
        }, 
        {
            "source": "#### Define information of interest and filter dataframe\n", 
            "cell_type": "markdown", 
            "metadata": {}
        }, 
        {
            "execution_count": 20, 
            "cell_type": "code", 
            "metadata": {}, 
            "outputs": [
                {
                    "execution_count": 20, 
                    "metadata": {}, 
                    "data": {
                        "text/html": "<div>\n<style scoped>\n    .dataframe tbody tr th:only-of-type {\n        vertical-align: middle;\n    }\n\n    .dataframe tbody tr th {\n        vertical-align: top;\n    }\n\n    .dataframe thead th {\n        text-align: right;\n    }\n</style>\n<table border=\"1\" class=\"dataframe\">\n  <thead>\n    <tr style=\"text-align: right;\">\n      <th></th>\n      <th>name</th>\n      <th>categories</th>\n      <th>address</th>\n      <th>cc</th>\n      <th>city</th>\n      <th>country</th>\n      <th>distance</th>\n      <th>formattedAddress</th>\n      <th>labeledLatLngs</th>\n      <th>lat</th>\n      <th>lng</th>\n      <th>postalCode</th>\n      <th>state</th>\n      <th>id</th>\n    </tr>\n  </thead>\n  <tbody>\n    <tr>\n      <th>0</th>\n      <td>The Hogtown Vegan</td>\n      <td>Vegetarian / Vegan Restaurant</td>\n      <td>382 College St</td>\n      <td>CA</td>\n      <td>Toronto</td>\n      <td>Canada</td>\n      <td>861</td>\n      <td>[382 College St, Toronto ON M5T 1S7, Canada]</td>\n      <td>[{'label': 'display', 'lng': -79.405302, 'lat'...</td>\n      <td>43.657007</td>\n      <td>-79.405302</td>\n      <td>M5T 1S7</td>\n      <td>ON</td>\n      <td>59e16436ccad6b067efe4383</td>\n    </tr>\n  </tbody>\n</table>\n</div>", 
                        "text/plain": "                name                     categories         address  cc  \\\n0  The Hogtown Vegan  Vegetarian / Vegan Restaurant  382 College St  CA   \n\n      city country  distance                              formattedAddress  \\\n0  Toronto  Canada       861  [382 College St, Toronto ON M5T 1S7, Canada]   \n\n                                      labeledLatLngs        lat        lng  \\\n0  [{'label': 'display', 'lng': -79.405302, 'lat'...  43.657007 -79.405302   \n\n  postalCode state                        id  \n0    M5T 1S7    ON  59e16436ccad6b067efe4383  "
                    }, 
                    "output_type": "execute_result"
                }
            ], 
            "source": "# keep only columns that include venue name, and anything that is associated with location\nfiltered_columns = ['name', 'categories'] + [col for col in dataframe.columns if col.startswith('location.')] + ['id']\ndataframe_filtered = dataframe.loc[:, filtered_columns]\n\n# function that extracts the category of the venue\ndef get_category_type(row):\n    try:\n        categories_list = row['categories']\n    except:\n        categories_list = row['venue.categories']\n        \n    if len(categories_list) == 0:\n        return None\n    else:\n        return categories_list[0]['name']\n\n# filter the category for each row\ndataframe_filtered['categories'] = dataframe_filtered.apply(get_category_type, axis=1)\n\n# clean column names by keeping only last term\ndataframe_filtered.columns = [column.split('.')[-1] for column in dataframe_filtered.columns]\n\ndataframe_filtered"
        }, 
        {
            "source": "#### Let's visualize the Vegan restaurant that are nearby to University of Toronto, downtown Toronto (St. George) campus.", 
            "cell_type": "markdown", 
            "metadata": {}
        }, 
        {
            "execution_count": 21, 
            "cell_type": "code", 
            "metadata": {}, 
            "outputs": [
                {
                    "execution_count": 21, 
                    "metadata": {}, 
                    "data": {
                        "text/plain": "0    The Hogtown Vegan\nName: name, dtype: object"
                    }, 
                    "output_type": "execute_result"
                }
            ], 
            "source": "dataframe_filtered.name"
        }, 
        {
            "execution_count": 22, 
            "cell_type": "code", 
            "metadata": {}, 
            "outputs": [
                {
                    "execution_count": 22, 
                    "metadata": {}, 
                    "data": {
                        "text/html": "<div style=\"width:100%;\"><div style=\"position:relative;width:100%;height:0;padding-bottom:60%;\"><iframe src=\"data:text/html;charset=utf-8;base64,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\" style=\"position:absolute;width:100%;height:100%;left:0;top:0;border:none !important;\" allowfullscreen webkitallowfullscreen mozallowfullscreen></iframe></div></div>", 
                        "text/plain": "<folium.folium.Map at 0x7f64ba1bedd8>"
                    }, 
                    "output_type": "execute_result"
                }
            ], 
            "source": "venues_map = folium.Map(location=[latitude, longitude], zoom_start=15) # generate map centred around the Conrad Hotel\n\n# add a red circle marker to represent the Conrad Hotel\nfolium.features.CircleMarker(\n    [latitude, longitude],\n    radius=10,\n    color='red',\n    popup='University of Toronto',\n    fill = True,\n    fill_color = 'red',\n    fill_opacity = 0.6\n).add_to(venues_map)\n\n# add the Vegan restaurant as blue circle markers\nfor lat, lng, label in zip(dataframe_filtered.lat, dataframe_filtered.lng, dataframe_filtered.categories):\n    folium.features.CircleMarker(\n        [lat, lng],\n        radius=5,\n        color='blue',\n        popup=label,\n        fill = True,\n        fill_color='blue',\n        fill_opacity=0.6\n    ).add_to(venues_map)\n\n# display map\nvenues_map"
        }, 
        {
            "source": "# 2. Explore a Given Venue", 
            "cell_type": "markdown", 
            "metadata": {}
        }, 
        {
            "source": "#### A. Let's explore the closest vegan restaurant (Hogtown Vegan Restaurant)", 
            "cell_type": "markdown", 
            "metadata": {}
        }, 
        {
            "execution_count": 23, 
            "cell_type": "code", 
            "metadata": {}, 
            "outputs": [
                {
                    "execution_count": 23, 
                    "metadata": {}, 
                    "data": {
                        "text/plain": "'https://api.foursquare.com/v2/venues/59e16436ccad6b067efe4383?client_id=VY1SPSHUQUTWEU5VHK41W3PNIS34Z5HRMVIV5IHLKYUJCX2H&client_secret=K2YCKM1HC5LVURD45BQZOC1J3I1KDCUFSY1AOMWSOEPFGRR3&v=20180604'"
                    }, 
                    "output_type": "execute_result"
                }
            ], 
            "source": "venue_id = '59e16436ccad6b067efe4383' # ID of The Hogtown's Vegan Restaurant\nurl = 'https://api.foursquare.com/v2/venues/{}?client_id={}&client_secret={}&v={}'.format(venue_id, CLIENT_ID, CLIENT_SECRET, VERSION)\nurl"
        }, 
        {
            "source": "#### Send GET request for result", 
            "cell_type": "markdown", 
            "metadata": {}
        }, 
        {
            "execution_count": 24, 
            "cell_type": "code", 
            "metadata": {}, 
            "outputs": [
                {
                    "output_type": "stream", 
                    "name": "stdout", 
                    "text": "dict_keys(['createdAt', 'attributes', 'timeZone', 'beenHere', 'reasons', 'likes', 'location', 'verified', 'stats', 'dislike', 'id', 'bestPhoto', 'hereNow', 'rating', 'ok', 'canonicalUrl', 'shortUrl', 'allowMenuUrlEdit', 'inbox', 'listed', 'colors', 'ratingColor', 'categories', 'specials', 'price', 'name', 'photos', 'contact', 'ratingSignals', 'pageUpdates', 'tips'])\n"
                }, 
                {
                    "execution_count": 24, 
                    "metadata": {}, 
                    "data": {
                        "text/plain": "{'allowMenuUrlEdit': True,\n 'attributes': {'groups': [{'count': 1,\n    'items': [{'displayName': 'Price', 'displayValue': '$$', 'priceTier': 2}],\n    'name': 'Price',\n    'summary': '$$',\n    'type': 'price'},\n   {'count': 8,\n    'items': [{'displayName': 'Brunch', 'displayValue': 'Brunch'},\n     {'displayName': 'Lunch', 'displayValue': 'Lunch'},\n     {'displayName': 'Dinner', 'displayValue': 'Dinner'}],\n    'name': 'Menus',\n    'summary': 'Dinner, Lunch & more',\n    'type': 'serves'}]},\n 'beenHere': {'count': 0,\n  'lastCheckinExpiredAt': 0,\n  'marked': False,\n  'unconfirmedCount': 0},\n 'bestPhoto': {'createdAt': 1533168346,\n  'height': 1440,\n  'id': '5b624ada872f7d002cd2bc76',\n  'prefix': 'https://igx.4sqi.net/img/general/',\n  'source': {'name': 'Foursquare for iOS',\n   'url': 'https://foursquare.com/download/#/iphone'},\n  'suffix': '/32934307_QcNKiezyCpFQDL243WYXtW3COuwa_5bWgsgUU2eofL0.jpg',\n  'visibility': 'public',\n  'width': 1440},\n 'canonicalUrl': 'https://foursquare.com/v/the-hogtown-vegan/59e16436ccad6b067efe4383',\n 'categories': [{'icon': {'prefix': 'https://ss3.4sqi.net/img/categories_v2/food/vegetarian_',\n    'suffix': '.png'},\n   'id': '4bf58dd8d48988d1d3941735',\n   'name': 'Vegetarian / Vegan Restaurant',\n   'pluralName': 'Vegetarian / Vegan Restaurants',\n   'primary': True,\n   'shortName': 'Vegetarian / Vegan'}],\n 'colors': {'algoVersion': 3,\n  'highlightColor': {'photoId': '5b624ada872f7d002cd2bc76',\n   'value': -11513840},\n  'highlightTextColor': {'photoId': '5b624ada872f7d002cd2bc76', 'value': -1}},\n 'contact': {},\n 'createdAt': 1507943478,\n 'dislike': False,\n 'hereNow': {'count': 0, 'groups': [], 'summary': 'Nobody here'},\n 'id': '59e16436ccad6b067efe4383',\n 'inbox': {'count': 0, 'items': []},\n 'likes': {'count': 11,\n  'groups': [{'count': 11, 'items': [], 'type': 'others'}],\n  'summary': '11 Likes'},\n 'listed': {'count': 6,\n  'groups': [{'count': 6,\n    'items': [{'canonicalUrl': 'https://foursquare.com/hunterb2017/list/my-fav',\n      'collaborative': False,\n      'createdAt': 1376755014,\n      'description': 'The stores, the bars, all the awesome places I have been to',\n      'editable': False,\n      'followers': {'count': 0},\n      'id': '520f9d46498e676d8a7c9877',\n      'listItems': {'count': 73,\n       'items': [{'createdAt': 1533168345,\n         'id': 'v59e16436ccad6b067efe4383'}]},\n      'name': 'My fav',\n      'public': True,\n      'type': 'others',\n      'updatedAt': 1539720974,\n      'url': '/hunterb2017/list/my-fav',\n      'user': {'firstName': 'Bridget',\n       'gender': 'female',\n       'id': '32934307',\n       'lastName': 'Shao',\n       'photo': {'prefix': 'https://igx.4sqi.net/img/user/',\n        'suffix': '/32934307_nQu9Ci07_WXxnFu5qwtuO_Z3Ti7oexC33cyVQ2X_ZUYSM6Q3RYFGajRjmgmTgUpj-or_lThmQ.jpg'}}},\n     {'canonicalUrl': 'https://foursquare.com/user/449647273/list/go-there',\n      'collaborative': False,\n      'createdAt': 1508004992,\n      'description': '',\n      'editable': False,\n      'followers': {'count': 0},\n      'id': '59e25480f0ca9508a5a98cd5',\n      'listItems': {'count': 41,\n       'items': [{'createdAt': 1508005023,\n         'id': 'v59e16436ccad6b067efe4383'}]},\n      'name': 'go there',\n      'photo': {'createdAt': 1430604408,\n       'height': 1920,\n       'id': '55454a78498ed97cbbf77c53',\n       'prefix': 'https://igx.4sqi.net/img/general/',\n       'suffix': '/5658_TSQOnvaQWyuJmaYREjZQz1ri3cG_FqJknb61kRjo3kI.jpg',\n       'user': {'firstName': 'Fumio',\n        'gender': 'male',\n        'id': '5658',\n        'lastName': 'Funkaoshi',\n        'photo': {'prefix': 'https://igx.4sqi.net/img/user/',\n         'suffix': '/5658-OOKJWWTPVVBKNR4G.jpg'}},\n       'visibility': 'public',\n       'width': 1440},\n      'public': True,\n      'type': 'others',\n      'updatedAt': 1538238888,\n      'url': '/user/449647273/list/go-there',\n      'user': {'firstName': 'Nathalia',\n       'gender': 'none',\n       'id': '449647273',\n       'lastName': 'Williams',\n       'photo': {'default': True,\n        'prefix': 'https://igx.4sqi.net/img/user/',\n        'suffix': '/blank_boy.png'}}},\n     {'canonicalUrl': 'https://foursquare.com/user/8781681/list/toronto',\n      'collaborative': False,\n      'createdAt': 1504110761,\n      'description': '',\n      'editable': False,\n      'followers': {'count': 0},\n      'id': '59a6e8a912f0a923c7be5e65',\n      'listItems': {'count': 69,\n       'items': [{'createdAt': 1509230218,\n         'id': 'v59e16436ccad6b067efe4383'}]},\n      'name': 'Toronto!',\n      'photo': {'createdAt': 1328383733,\n       'height': 720,\n       'id': '4f2d86f5e4b09d49e8850bb7',\n       'prefix': 'https://igx.4sqi.net/img/general/',\n       'suffix': '/tqb5PiqK6hsQLx4KicBg2ZLTcPwR8P3UV2eDOihgc8E.jpg',\n       'user': {'firstName': 'Ian',\n        'gender': 'male',\n        'id': '72906',\n        'lastName': 'Irving',\n        'photo': {'prefix': 'https://igx.4sqi.net/img/user/',\n         'suffix': '/72906_1256218737320.jpg'}},\n       'visibility': 'public',\n       'width': 540},\n      'public': True,\n      'type': 'others',\n      'updatedAt': 1529786683,\n      'url': '/user/8781681/list/toronto',\n      'user': {'firstName': 'Matt',\n       'gender': 'male',\n       'id': '8781681',\n       'lastName': 'Lehner',\n       'photo': {'prefix': 'https://igx.4sqi.net/img/user/',\n        'suffix': '/AX4LQ5W5ASMSNVJH.jpg'}}},\n     {'canonicalUrl': 'https://foursquare.com/user/133946712/list/toronto',\n      'collaborative': False,\n      'createdAt': 1518741806,\n      'description': '',\n      'editable': False,\n      'followers': {'count': 1},\n      'id': '5a86292e237dee6f28394425',\n      'listItems': {'count': 13,\n       'items': [{'createdAt': 1519583973,\n         'id': 'v59e16436ccad6b067efe4383'}]},\n      'name': 'Toronto',\n      'photo': {'createdAt': 1457635855,\n       'height': 960,\n       'id': '56e1c20f498efa4a84d0ee2d',\n       'prefix': 'https://igx.4sqi.net/img/general/',\n       'suffix': '/11177609_alons7R038ggCuEWoG-dbBF_E1-81zou7XgikF6v-bg.jpg',\n       'user': {'firstName': 'Deborah',\n        'gender': 'female',\n        'id': '11177609',\n        'lastName': 'Peniuk',\n        'photo': {'prefix': 'https://igx.4sqi.net/img/user/',\n         'suffix': '/11177609-AK4JH1C5ZVGYCXYA.jpg'}},\n       'visibility': 'public',\n       'width': 720},\n      'public': True,\n      'type': 'others',\n      'updatedAt': 1519583984,\n      'url': '/user/133946712/list/toronto',\n      'user': {'firstName': 'Josh',\n       'gender': 'none',\n       'id': '133946712',\n       'lastName': 'Moser',\n       'photo': {'default': True,\n        'prefix': 'https://igx.4sqi.net/img/user/',\n        'suffix': '/blank_boy.png'}}}],\n    'name': 'Lists from other people',\n    'type': 'others'}]},\n 'location': {'address': '382 College St',\n  'cc': 'CA',\n  'city': 'Toronto',\n  'country': 'Canada',\n  'formattedAddress': ['382 College St', 'Toronto ON M5T 1S7', 'Canada'],\n  'labeledLatLngs': [{'label': 'display',\n    'lat': 43.657007,\n    'lng': -79.405302}],\n  'lat': 43.657007,\n  'lng': -79.405302,\n  'postalCode': 'M5T 1S7',\n  'state': 'ON'},\n 'name': 'The Hogtown Vegan',\n 'ok': False,\n 'pageUpdates': {'count': 0, 'items': []},\n 'photos': {'count': 8,\n  'groups': [{'count': 0,\n    'items': [],\n    'name': \"Friends' check-in photos\",\n    'type': 'checkin'},\n   {'count': 8,\n    'items': [{'createdAt': 1533168346,\n      'height': 1440,\n      'id': '5b624ada872f7d002cd2bc76',\n      'prefix': 'https://igx.4sqi.net/img/general/',\n      'source': {'name': 'Foursquare for iOS',\n       'url': 'https://foursquare.com/download/#/iphone'},\n      'suffix': '/32934307_QcNKiezyCpFQDL243WYXtW3COuwa_5bWgsgUU2eofL0.jpg',\n      'user': {'firstName': 'Bridget',\n       'gender': 'female',\n       'id': '32934307',\n       'lastName': 'Shao',\n       'photo': {'prefix': 'https://igx.4sqi.net/img/user/',\n        'suffix': '/32934307_nQu9Ci07_WXxnFu5qwtuO_Z3Ti7oexC33cyVQ2X_ZUYSM6Q3RYFGajRjmgmTgUpj-or_lThmQ.jpg'}},\n      'visibility': 'public',\n      'width': 1440}],\n    'name': 'Venue photos',\n    'type': 'venue'}],\n  'summary': '0 photos'},\n 'price': {'currency': '$', 'message': 'Moderate', 'tier': 2},\n 'rating': 7.7,\n 'ratingColor': 'C5DE35',\n 'ratingSignals': 16,\n 'reasons': {'count': 0, 'items': []},\n 'shortUrl': 'http://4sq.com/2z5xd36',\n 'specials': {'count': 0, 'items': []},\n 'stats': {'tipCount': 5},\n 'timeZone': 'America/Toronto',\n 'tips': {'count': 5,\n  'groups': [{'count': 5,\n    'items': [{'agreeCount': 0,\n      'authorInteractionType': 'liked',\n      'canonicalUrl': 'https://foursquare.com/item/5b624ad02f97ec002ccce389',\n      'createdAt': 1533168336,\n      'disagreeCount': 0,\n      'id': '5b624ad02f97ec002ccce389',\n      'lang': 'en',\n      'likes': {'count': 0, 'groups': []},\n      'logView': True,\n      'photo': {'createdAt': 1533168346,\n       'height': 1440,\n       'id': '5b624ada872f7d002cd2bc76',\n       'prefix': 'https://igx.4sqi.net/img/general/',\n       'source': {'name': 'Foursquare for iOS',\n        'url': 'https://foursquare.com/download/#/iphone'},\n       'suffix': '/32934307_QcNKiezyCpFQDL243WYXtW3COuwa_5bWgsgUU2eofL0.jpg',\n       'visibility': 'public',\n       'width': 1440},\n      'photourl': 'https://igx.4sqi.net/img/general/original/32934307_QcNKiezyCpFQDL243WYXtW3COuwa_5bWgsgUU2eofL0.jpg',\n      'text': 'The Grilled Tofu Salad!!! And the organic coffee is free filled, highly recommended!',\n      'todo': {'count': 0},\n      'type': 'user',\n      'user': {'firstName': 'Bridget',\n       'gender': 'female',\n       'id': '32934307',\n       'lastName': 'Shao',\n       'photo': {'prefix': 'https://igx.4sqi.net/img/user/',\n        'suffix': '/32934307_nQu9Ci07_WXxnFu5qwtuO_Z3Ti7oexC33cyVQ2X_ZUYSM6Q3RYFGajRjmgmTgUpj-or_lThmQ.jpg'}}}],\n    'name': 'All tips',\n    'type': 'others'}]},\n 'verified': False}"
                    }, 
                    "output_type": "execute_result"
                }
            ], 
            "source": "result = requests.get(url).json()\nprint(result['response']['venue'].keys())\nresult['response']['venue']"
        }, 
        {
            "source": "#### B. Get the venue's overall rating", 
            "cell_type": "markdown", 
            "metadata": {}
        }, 
        {
            "execution_count": 25, 
            "cell_type": "code", 
            "metadata": {}, 
            "outputs": [
                {
                    "output_type": "stream", 
                    "name": "stdout", 
                    "text": "7.7\n"
                }
            ], 
            "source": "try:\n    print(result['response']['venue']['rating'])\nexcept:\n    print('This venue has not been rated yet.')"
        }, 
        {
            "source": "#### C. Get the number of tips", 
            "cell_type": "markdown", 
            "metadata": {}
        }, 
        {
            "execution_count": 26, 
            "cell_type": "code", 
            "metadata": {}, 
            "outputs": [
                {
                    "execution_count": 26, 
                    "metadata": {}, 
                    "data": {
                        "text/plain": "5"
                    }, 
                    "output_type": "execute_result"
                }
            ], 
            "source": "result['response']['venue']['tips']['count']"
        }, 
        {
            "source": "#### D. Get the venue's tips", 
            "cell_type": "markdown", 
            "metadata": {}
        }, 
        {
            "execution_count": 27, 
            "cell_type": "code", 
            "metadata": {}, 
            "outputs": [
                {
                    "execution_count": 27, 
                    "metadata": {}, 
                    "data": {
                        "text/plain": "{'meta': {'code': 200, 'requestId': '5bc7161a4c1f67199abb94f4'},\n 'response': {'tips': {'count': 5,\n   'items': [{'agreeCount': 0,\n     'authorInteractionType': 'liked',\n     'canonicalUrl': 'https://foursquare.com/item/5b3ac1e06f706a002c6eb9dc',\n     'createdAt': 1530577376,\n     'disagreeCount': 0,\n     'id': '5b3ac1e06f706a002c6eb9dc',\n     'lang': 'en',\n     'likes': {'count': 0, 'groups': []},\n     'logView': True,\n     'photo': {'createdAt': 1530577378,\n      'height': 1920,\n      'id': '5b3ac1e24420d8003a4b9cca',\n      'prefix': 'https://igx.4sqi.net/img/general/',\n      'source': {'name': 'Foursquare for iOS',\n       'url': 'https://foursquare.com/download/#/iphone'},\n      'suffix': '/37845893_bSKNeSSeNBmIUDF5gFkmrrG6S3MdllkivNHpKG9rQ2k.jpg',\n      'visibility': 'public',\n      'width': 1440},\n     'photourl': 'https://igx.4sqi.net/img/general/original/37845893_bSKNeSSeNBmIUDF5gFkmrrG6S3MdllkivNHpKG9rQ2k.jpg',\n     'text': 'Friendly, relaxed atmosphere in a great location. Food and drink super and served really quick. I had the corn chips with guacamole and the mac n cheese and it was very very good. Loved the place!',\n     'todo': {'count': 0},\n     'type': 'user',\n     'user': {'firstName': 'Denise',\n      'gender': 'female',\n      'id': '37845893',\n      'lastName': \"O'Connor\",\n      'photo': {'prefix': 'https://igx.4sqi.net/img/user/',\n       'suffix': '/37845893_uWbI1kRk_NUkv-xbuHug0KoTwFmm3Dqwtkf4siqwyjbvw4UO-yjuRC7gwJmEw2pPgIf2f9bAu.jpg'}}}]}}}"
                    }, 
                    "output_type": "execute_result"
                }
            ], 
            "source": "## Ecco Tips\nlimit = 15 # set limit to be greater than or equal to the total number of tips\nurl = 'https://api.foursquare.com/v2/venues/{}/tips?client_id={}&client_secret={}&v={}&limit={}'.format(venue_id, CLIENT_ID, CLIENT_SECRET, VERSION, limit)\n\nresults = requests.get(url).json()\nresults"
        }, 
        {
            "source": "#### Get tips and list of associated features", 
            "cell_type": "markdown", 
            "metadata": {}
        }, 
        {
            "execution_count": 28, 
            "cell_type": "code", 
            "metadata": {}, 
            "outputs": [
                {
                    "execution_count": 28, 
                    "metadata": {}, 
                    "data": {
                        "text/plain": "dict_keys(['createdAt', 'lang', 'canonicalUrl', 'agreeCount', 'user', 'type', 'likes', 'todo', 'disagreeCount', 'photo', 'text', 'authorInteractionType', 'id', 'photourl', 'logView'])"
                    }, 
                    "output_type": "execute_result"
                }
            ], 
            "source": "tips = results['response']['tips']['items']\n\ntip = results['response']['tips']['items'][0]\ntip.keys()"
        }, 
        {
            "source": "#### Format column width and display all tips", 
            "cell_type": "markdown", 
            "metadata": {}
        }, 
        {
            "execution_count": 29, 
            "cell_type": "code", 
            "metadata": {}, 
            "outputs": [
                {
                    "execution_count": 29, 
                    "metadata": {}, 
                    "data": {
                        "text/html": "<div>\n<style scoped>\n    .dataframe tbody tr th:only-of-type {\n        vertical-align: middle;\n    }\n\n    .dataframe tbody tr th {\n        vertical-align: top;\n    }\n\n    .dataframe thead th {\n        text-align: right;\n    }\n</style>\n<table border=\"1\" class=\"dataframe\">\n  <thead>\n    <tr style=\"text-align: right;\">\n      <th></th>\n      <th>text</th>\n      <th>agreeCount</th>\n      <th>disagreeCount</th>\n      <th>id</th>\n      <th>user.firstName</th>\n      <th>user.lastName</th>\n      <th>user.gender</th>\n      <th>user.id</th>\n    </tr>\n  </thead>\n  <tbody>\n    <tr>\n      <th>0</th>\n      <td>Friendly, relaxed atmosphere in a great location. Food and drink super and served really quick. I had the corn chips with guacamole and the mac n cheese and it was very very good. Loved the place!</td>\n      <td>0</td>\n      <td>0</td>\n      <td>5b3ac1e06f706a002c6eb9dc</td>\n      <td>Denise</td>\n      <td>O'Connor</td>\n      <td>female</td>\n      <td>37845893</td>\n    </tr>\n  </tbody>\n</table>\n</div>", 
                        "text/plain": "                                                                                                                                                                                                   text  \\\n0  Friendly, relaxed atmosphere in a great location. Food and drink super and served really quick. I had the corn chips with guacamole and the mac n cheese and it was very very good. Loved the place!   \n\n   agreeCount  disagreeCount                        id user.firstName  \\\n0  0           0              5b3ac1e06f706a002c6eb9dc  Denise          \n\n  user.lastName user.gender   user.id  \n0  O'Connor      female      37845893  "
                    }, 
                    "output_type": "execute_result"
                }
            ], 
            "source": "pd.set_option('display.max_colwidth', -1)\n\ntips_df = json_normalize(tips) # json normalize tips\n\n# columns to keep\nfiltered_columns = ['text', 'agreeCount', 'disagreeCount', 'id', 'user.firstName', 'user.lastName', 'user.gender', 'user.id']\ntips_filtered = tips_df.loc[:, filtered_columns]\n\n# display tips\ntips_filtered"
        }, 
        {
            "source": "# 3. Search a Foursquare User", 
            "cell_type": "markdown", 
            "metadata": {}
        }, 
        {
            "source": "#### Define URL, send GET request and display features associated with user", 
            "cell_type": "markdown", 
            "metadata": {}
        }, 
        {
            "execution_count": 30, 
            "cell_type": "code", 
            "metadata": {}, 
            "outputs": [
                {
                    "execution_count": 30, 
                    "metadata": {}, 
                    "data": {
                        "text/plain": "dict_keys(['mayorships', 'gender', 'canonicalUrl', 'firstName', 'bio', 'type', 'checkins', 'lenses', 'friends', 'photo', 'lists', 'photos', 'contact', 'id', 'homeCity', 'lastName', 'tips'])"
                    }, 
                    "output_type": "execute_result"
                }
            ], 
            "source": "user_id = '37845893' # user ID with most agree counts and complete profile\n\nurl = 'https://api.foursquare.com/v2/users/{}?client_id={}&client_secret={}&v={}'.format(user_id, CLIENT_ID, CLIENT_SECRET, VERSION) # define URL\n\n# send GET request\nresults = requests.get(url).json()\nuser_data = results['response']['user']\n\n# display features associated with user\nuser_data.keys()"
        }, 
        {
            "execution_count": 31, 
            "cell_type": "code", 
            "metadata": {}, 
            "outputs": [
                {
                    "output_type": "stream", 
                    "name": "stdout", 
                    "text": "First Name: Denise\nLast Name: O'Connor\nHome City: Edinburgh\n"
                }
            ], 
            "source": "print('First Name: ' + user_data['firstName'])\nprint('Last Name: ' + user_data['lastName'])\nprint('Home City: ' + user_data['homeCity'])"
        }, 
        {
            "source": "#### How many tips has this user submitted?", 
            "cell_type": "markdown", 
            "metadata": {}
        }, 
        {
            "execution_count": 32, 
            "cell_type": "code", 
            "metadata": {}, 
            "outputs": [
                {
                    "execution_count": 32, 
                    "metadata": {}, 
                    "data": {
                        "text/plain": "{'count': 6}"
                    }, 
                    "output_type": "execute_result"
                }
            ], 
            "source": "user_data['tips']"
        }, 
        {
            "source": "###### Hmmm... Denise is not an active Foursquare user, only with 6 tips.\n", 
            "cell_type": "markdown", 
            "metadata": {}
        }, 
        {
            "source": "#### Get User's tips", 
            "cell_type": "markdown", 
            "metadata": {}
        }, 
        {
            "execution_count": 33, 
            "cell_type": "code", 
            "metadata": {}, 
            "outputs": [
                {
                    "execution_count": 33, 
                    "metadata": {}, 
                    "data": {
                        "text/html": "<div>\n<style scoped>\n    .dataframe tbody tr th:only-of-type {\n        vertical-align: middle;\n    }\n\n    .dataframe tbody tr th {\n        vertical-align: top;\n    }\n\n    .dataframe thead th {\n        text-align: right;\n    }\n</style>\n<table border=\"1\" class=\"dataframe\">\n  <thead>\n    <tr style=\"text-align: right;\">\n      <th></th>\n      <th>text</th>\n      <th>agreeCount</th>\n      <th>disagreeCount</th>\n      <th>id</th>\n    </tr>\n  </thead>\n  <tbody>\n    <tr>\n      <th>0</th>\n      <td>Loved this wee place. The Classic egg and cheese muffin is the best I\u2019ve ever tasted. Fresh orange juice, coffee and great service.</td>\n      <td>0</td>\n      <td>0</td>\n      <td>5b494d6fd4cc98002c7a22ba</td>\n    </tr>\n    <tr>\n      <th>1</th>\n      <td>Friendly, relaxed atmosphere in a great location. Food and drink super and served really quick. I had the corn chips with guacamole and the mac n cheese and it was very very good. Loved the place!</td>\n      <td>0</td>\n      <td>0</td>\n      <td>5b3ac1e06f706a002c6eb9dc</td>\n    </tr>\n    <tr>\n      <th>2</th>\n      <td>Lunch menu great selection and only \u00a37.95 for two courses until 4pm.</td>\n      <td>0</td>\n      <td>0</td>\n      <td>5946981025fb7b385403ce27</td>\n    </tr>\n    <tr>\n      <th>3</th>\n      <td>Laid back atmosphere great menu lovely staff.</td>\n      <td>0</td>\n      <td>0</td>\n      <td>5808cba6d67ca60cf58b0ba9</td>\n    </tr>\n    <tr>\n      <th>4</th>\n      <td>Everything. Wine, beer, relax and watch the beer being brewed.</td>\n      <td>0</td>\n      <td>0</td>\n      <td>54023227498e2d22bd4a6342</td>\n    </tr>\n    <tr>\n      <th>5</th>\n      <td>Have dinner in the Rotunda and park there. Get the code when you leave then enjoy the show at the Hydro. Leave sharp and you'll get out of the City in minutes. Dx</td>\n      <td>0</td>\n      <td>0</td>\n      <td>5402318a498e67869a96ff39</td>\n    </tr>\n  </tbody>\n</table>\n</div>", 
                        "text/plain": "                                                                                                                                                                                                   text  \\\n0  Loved this wee place. The Classic egg and cheese muffin is the best I\u2019ve ever tasted. Fresh orange juice, coffee and great service.                                                                    \n1  Friendly, relaxed atmosphere in a great location. Food and drink super and served really quick. I had the corn chips with guacamole and the mac n cheese and it was very very good. Loved the place!   \n2  Lunch menu great selection and only \u00a37.95 for two courses until 4pm.                                                                                                                                   \n3  Laid back atmosphere great menu lovely staff.                                                                                                                                                          \n4  Everything. Wine, beer, relax and watch the beer being brewed.                                                                                                                                         \n5  Have dinner in the Rotunda and park there. Get the code when you leave then enjoy the show at the Hydro. Leave sharp and you'll get out of the City in minutes. Dx                                     \n\n   agreeCount  disagreeCount                        id  \n0  0           0              5b494d6fd4cc98002c7a22ba  \n1  0           0              5b3ac1e06f706a002c6eb9dc  \n2  0           0              5946981025fb7b385403ce27  \n3  0           0              5808cba6d67ca60cf58b0ba9  \n4  0           0              54023227498e2d22bd4a6342  \n5  0           0              5402318a498e67869a96ff39  "
                    }, 
                    "output_type": "execute_result"
                }
            ], 
            "source": "# define tips URL\nurl = 'https://api.foursquare.com/v2/users/{}/tips?client_id={}&client_secret={}&v={}&limit={}'.format(user_id, CLIENT_ID, CLIENT_SECRET, VERSION, limit)\n\n# send GET request and get user's tips\nresults = requests.get(url).json()\ntips = results['response']['tips']['items']\n\n# format column width\npd.set_option('display.max_colwidth', -1)\n\ntips_df = json_normalize(tips)\n\n# filter columns\nfiltered_columns = ['text', 'agreeCount', 'disagreeCount', 'id']\ntips_filtered = tips_df.loc[:, filtered_columns]\n\n# display user's tips\ntips_filtered"
        }, 
        {
            "source": "#### Let's get the venue for the tip with the greatest number of agree counts\n", 
            "cell_type": "markdown", 
            "metadata": {}
        }, 
        {
            "execution_count": 34, 
            "cell_type": "code", 
            "metadata": {}, 
            "outputs": [
                {
                    "output_type": "stream", 
                    "name": "stdout", 
                    "text": "Old Navy\n{'city': 'New York', 'state': 'NY', 'crossStreet': 'btwn 6th & 7th Ave', 'lng': -73.98991584777832, 'country': 'United States', 'formattedAddress': ['150 W 34th St (btwn 6th & 7th Ave)', 'New York, NY 10001', 'United States'], 'address': '150 W 34th St', 'postalCode': '10001', 'cc': 'US', 'lat': 40.750248045828585, 'labeledLatLngs': [{'label': 'display', 'lng': -73.98991584777832, 'lat': 40.750248045828585}]}\n"
                }
            ], 
            "source": "tip_id = '4f8ef19ce4b007514d63404e' # tip id\n\n# define URL\nurl = 'http://api.foursquare.com/v2/tips/{}?client_id={}&client_secret={}&v={}'.format(tip_id, CLIENT_ID, CLIENT_SECRET, VERSION)\n\n# send GET Request and examine results\nresult = requests.get(url).json()\nprint(result['response']['tip']['venue']['name'])\nprint(result['response']['tip']['venue']['location'])"
        }, 
        {
            "source": "#### Get User's friends", 
            "cell_type": "markdown", 
            "metadata": {}
        }, 
        {
            "execution_count": 35, 
            "cell_type": "code", 
            "metadata": {}, 
            "outputs": [
                {
                    "execution_count": 35, 
                    "metadata": {}, 
                    "data": {
                        "text/html": "<div>\n<style scoped>\n    .dataframe tbody tr th:only-of-type {\n        vertical-align: middle;\n    }\n\n    .dataframe tbody tr th {\n        vertical-align: top;\n    }\n\n    .dataframe thead th {\n        text-align: right;\n    }\n</style>\n<table border=\"1\" class=\"dataframe\">\n  <thead>\n    <tr style=\"text-align: right;\">\n      <th></th>\n      <th>bio</th>\n      <th>firstName</th>\n      <th>gender</th>\n      <th>homeCity</th>\n      <th>id</th>\n      <th>lastName</th>\n      <th>lists.groups</th>\n      <th>photo.prefix</th>\n      <th>photo.suffix</th>\n      <th>tips.count</th>\n    </tr>\n  </thead>\n  <tbody>\n    <tr>\n      <th>0</th>\n      <td></td>\n      <td>Jamie</td>\n      <td>male</td>\n      <td>Ayr, SCT</td>\n      <td>89785516</td>\n      <td>McCallum</td>\n      <td>[{'type': 'created', 'items': [], 'count': 2}]</td>\n      <td>https://igx.4sqi.net/img/user/</td>\n      <td>/89785516-BLLRGV2PIF3AQLGM.jpg</td>\n      <td>0</td>\n    </tr>\n    <tr>\n      <th>1</th>\n      <td></td>\n      <td>David</td>\n      <td>male</td>\n      <td>Los Angeles, CA</td>\n      <td>2700751</td>\n      <td>Mitchell</td>\n      <td>[{'type': 'created', 'items': [], 'count': 2}]</td>\n      <td>https://igx.4sqi.net/img/user/</td>\n      <td>/JW3XIWPLSX3FUH1W.jpg</td>\n      <td>0</td>\n    </tr>\n    <tr>\n      <th>2</th>\n      <td></td>\n      <td>Mark</td>\n      <td>male</td>\n      <td>Barrhead, UK</td>\n      <td>18952005</td>\n      <td>Houston</td>\n      <td>[{'type': 'created', 'items': [], 'count': 2}]</td>\n      <td>https://igx.4sqi.net/img/user/</td>\n      <td>/UEJI4FM30Z5TYSZR.jpg</td>\n      <td>0</td>\n    </tr>\n  </tbody>\n</table>\n</div>", 
                        "text/plain": "  bio firstName gender         homeCity        id  lastName  \\\n0      Jamie     male   Ayr, SCT         89785516  McCallum   \n1      David     male   Los Angeles, CA  2700751   Mitchell   \n2      Mark      male   Barrhead, UK     18952005  Houston    \n\n                                     lists.groups  \\\n0  [{'type': 'created', 'items': [], 'count': 2}]   \n1  [{'type': 'created', 'items': [], 'count': 2}]   \n2  [{'type': 'created', 'items': [], 'count': 2}]   \n\n                     photo.prefix                    photo.suffix  tips.count  \n0  https://igx.4sqi.net/img/user/  /89785516-BLLRGV2PIF3AQLGM.jpg  0           \n1  https://igx.4sqi.net/img/user/  /JW3XIWPLSX3FUH1W.jpg           0           \n2  https://igx.4sqi.net/img/user/  /UEJI4FM30Z5TYSZR.jpg           0           "
                    }, 
                    "output_type": "execute_result"
                }
            ], 
            "source": "user_friends = json_normalize(user_data['friends']['groups'][0]['items'])\nuser_friends"
        }, 
        {
            "source": "######  Denise has few number of friends in Foursquare.", 
            "cell_type": "markdown", 
            "metadata": {}
        }, 
        {
            "source": "### Retrieve the User's Profile Image", 
            "cell_type": "markdown", 
            "metadata": {}
        }, 
        {
            "execution_count": 36, 
            "cell_type": "code", 
            "metadata": {}, 
            "outputs": [
                {
                    "execution_count": 36, 
                    "metadata": {}, 
                    "data": {
                        "text/plain": "{'bio': '',\n 'canonicalUrl': 'https://foursquare.com/user/37845893',\n 'checkins': {'count': 58, 'items': []},\n 'contact': {},\n 'firstName': 'Denise',\n 'friends': {'count': 3,\n  'groups': [{'count': 3,\n    'items': [{'bio': '',\n      'contact': {},\n      'firstName': 'Jamie',\n      'gender': 'male',\n      'homeCity': 'Ayr, SCT',\n      'id': '89785516',\n      'lastName': 'McCallum',\n      'lists': {'groups': [{'count': 2, 'items': [], 'type': 'created'}]},\n      'photo': {'prefix': 'https://igx.4sqi.net/img/user/',\n       'suffix': '/89785516-BLLRGV2PIF3AQLGM.jpg'},\n      'tips': {'count': 0}},\n     {'bio': '',\n      'contact': {},\n      'firstName': 'David',\n      'gender': 'male',\n      'homeCity': 'Los Angeles, CA',\n      'id': '2700751',\n      'lastName': 'Mitchell',\n      'lists': {'groups': [{'count': 2, 'items': [], 'type': 'created'}]},\n      'photo': {'prefix': 'https://igx.4sqi.net/img/user/',\n       'suffix': '/JW3XIWPLSX3FUH1W.jpg'},\n      'tips': {'count': 0}},\n     {'bio': '',\n      'contact': {},\n      'firstName': 'Mark',\n      'gender': 'male',\n      'homeCity': 'Barrhead, UK',\n      'id': '18952005',\n      'lastName': 'Houston',\n      'lists': {'groups': [{'count': 2, 'items': [], 'type': 'created'}]},\n      'photo': {'prefix': 'https://igx.4sqi.net/img/user/',\n       'suffix': '/UEJI4FM30Z5TYSZR.jpg'},\n      'tips': {'count': 0}}],\n    'name': 'Other friends',\n    'type': 'others'}]},\n 'gender': 'female',\n 'homeCity': 'Edinburgh',\n 'id': '37845893',\n 'lastName': \"O'Connor\",\n 'lenses': [],\n 'lists': {'count': 2,\n  'groups': [{'count': 0, 'items': [], 'type': 'created'},\n   {'count': 0, 'items': [], 'type': 'followed'},\n   {'count': 2,\n    'items': [{'canonicalUrl': 'https://foursquare.com/user/37845893/list/todos',\n      'collaborative': False,\n      'description': '',\n      'editable': False,\n      'id': '37845893/todos',\n      'listItems': {'count': 0},\n      'name': \"Denise's Saved Places\",\n      'public': True,\n      'type': 'todos',\n      'url': '/user/37845893/list/todos'},\n     {'canonicalUrl': 'https://foursquare.com/user/37845893/list/venuelikes',\n      'collaborative': False,\n      'description': '',\n      'editable': False,\n      'id': '37845893/venuelikes',\n      'listItems': {'count': 0},\n      'name': 'Denise\u2019s Liked Places',\n      'public': True,\n      'type': 'likes',\n      'url': '/user/37845893/list/venuelikes'}],\n    'type': 'yours'}]},\n 'mayorships': {'count': 0, 'items': []},\n 'photo': {'prefix': 'https://igx.4sqi.net/img/user/',\n  'suffix': '/37845893_uWbI1kRk_NUkv-xbuHug0KoTwFmm3Dqwtkf4siqwyjbvw4UO-yjuRC7gwJmEw2pPgIf2f9bAu.jpg'},\n 'photos': {'count': 0, 'items': []},\n 'tips': {'count': 6},\n 'type': 'user'}"
                    }, 
                    "output_type": "execute_result"
                }
            ], 
            "source": "user_data"
        }, 
        {
            "execution_count": 37, 
            "cell_type": "code", 
            "metadata": {}, 
            "outputs": [
                {
                    "execution_count": 37, 
                    "metadata": {}, 
                    "data": {
                        "text/html": "<img src=\"https://igx.4sqi.net/img/user/300x300/89785516-BLLRGV2PIF3AQLGM.jpg\"/>", 
                        "text/plain": "<IPython.core.display.Image object>"
                    }, 
                    "output_type": "execute_result"
                }
            ], 
            "source": "# 1. grab prefix of photo\n# 2. grab suffix of photo\n# 3. concatenate them using the image size  \nImage(url='https://igx.4sqi.net/img/user/300x300/89785516-BLLRGV2PIF3AQLGM.jpg')"
        }, 
        {
            "source": "##### Nice user profile picture with his cute toddlers!", 
            "cell_type": "markdown", 
            "metadata": {}
        }, 
        {
            "source": "# 4. Explore a location", 
            "cell_type": "markdown", 
            "metadata": {}
        }, 
        {
            "source": "#### Let's explore popular spots around University of Toronto. ", 
            "cell_type": "markdown", 
            "metadata": {}
        }, 
        {
            "execution_count": 38, 
            "cell_type": "code", 
            "metadata": {}, 
            "outputs": [
                {
                    "execution_count": 38, 
                    "metadata": {}, 
                    "data": {
                        "text/plain": "'https://api.foursquare.com/v2/venues/explore?client_id=VY1SPSHUQUTWEU5VHK41W3PNIS34Z5HRMVIV5IHLKYUJCX2H&client_secret=K2YCKM1HC5LVURD45BQZOC1J3I1KDCUFSY1AOMWSOEPFGRR3&ll=43.6607225,-79.3959198095151&v=20180604&radius=1000&limit=30'"
                    }, 
                    "output_type": "execute_result"
                }
            ], 
            "source": "url = 'https://api.foursquare.com/v2/venues/explore?client_id={}&client_secret={}&ll={},{}&v={}&radius={}&limit={}'.format(CLIENT_ID, CLIENT_SECRET, latitude, longitude, VERSION, radius, LIMIT)\nurl"
        }, 
        {
            "execution_count": 39, 
            "cell_type": "code", 
            "metadata": {}, 
            "outputs": [
                {
                    "execution_count": 39, 
                    "metadata": {}, 
                    "data": {
                        "text/plain": "'There are 30 around Universty of Toronto.'"
                    }, 
                    "output_type": "execute_result"
                }
            ], 
            "source": "results = requests.get(url).json()\n'There are {} around Universty of Toronto.'.format(len(results['response']['groups'][0]['items']))"
        }, 
        {
            "source": "#### Get relevant part of JSON", 
            "cell_type": "markdown", 
            "metadata": {}
        }, 
        {
            "execution_count": 40, 
            "cell_type": "code", 
            "metadata": {}, 
            "outputs": [
                {
                    "execution_count": 40, 
                    "metadata": {}, 
                    "data": {
                        "text/plain": "{'reasons': {'count': 0,\n  'items': [{'reasonName': 'globalInteractionReason',\n    'summary': 'This spot is popular',\n    'type': 'general'}]},\n 'referralId': 'e-0-4b9d206bf964a520e69136e3-0',\n 'venue': {'categories': [{'icon': {'prefix': 'https://ss3.4sqi.net/img/categories_v2/parks_outdoors/park_',\n     'suffix': '.png'},\n    'id': '4bf58dd8d48988d163941735',\n    'name': 'Park',\n    'pluralName': 'Parks',\n    'primary': True,\n    'shortName': 'Park'}],\n  'id': '4b9d206bf964a520e69136e3',\n  'location': {'address': 'University Ave.',\n   'cc': 'CA',\n   'city': 'Toronto',\n   'country': 'Canada',\n   'crossStreet': 'at Wellesley Ave.',\n   'distance': 468,\n   'formattedAddress': ['University Ave. (at Wellesley Ave.)',\n    'Toronto ON M5R 2E8',\n    'Canada'],\n   'labeledLatLngs': [{'label': 'display',\n     'lat': 43.66394609897775,\n     'lng': -79.39217952520835}],\n   'lat': 43.66394609897775,\n   'lng': -79.39217952520835,\n   'postalCode': 'M5R 2E8',\n   'state': 'ON'},\n  'name': \"Queen's Park\",\n  'photos': {'count': 0, 'groups': []}}}"
                    }, 
                    "output_type": "execute_result"
                }
            ], 
            "source": "items = results['response']['groups'][0]['items']\nitems[0]"
        }, 
        {
            "execution_count": 41, 
            "cell_type": "code", 
            "metadata": {}, 
            "outputs": [
                {
                    "execution_count": 41, 
                    "metadata": {}, 
                    "data": {
                        "text/html": "<div>\n<style scoped>\n    .dataframe tbody tr th:only-of-type {\n        vertical-align: middle;\n    }\n\n    .dataframe tbody tr th {\n        vertical-align: top;\n    }\n\n    .dataframe thead th {\n        text-align: right;\n    }\n</style>\n<table border=\"1\" class=\"dataframe\">\n  <thead>\n    <tr style=\"text-align: right;\">\n      <th></th>\n      <th>name</th>\n      <th>categories</th>\n      <th>address</th>\n      <th>cc</th>\n      <th>city</th>\n      <th>country</th>\n      <th>crossStreet</th>\n      <th>distance</th>\n      <th>formattedAddress</th>\n      <th>labeledLatLngs</th>\n      <th>lat</th>\n      <th>lng</th>\n      <th>neighborhood</th>\n      <th>postalCode</th>\n      <th>state</th>\n      <th>id</th>\n    </tr>\n  </thead>\n  <tbody>\n    <tr>\n      <th>0</th>\n      <td>Queen's Park</td>\n      <td>Park</td>\n      <td>University Ave.</td>\n      <td>CA</td>\n      <td>Toronto</td>\n      <td>Canada</td>\n      <td>at Wellesley Ave.</td>\n      <td>468</td>\n      <td>[University Ave. (at Wellesley Ave.), Toronto ON M5R 2E8, Canada]</td>\n      <td>[{'label': 'display', 'lng': -79.39217952520835, 'lat': 43.66394609897775}]</td>\n      <td>43.663946</td>\n      <td>-79.392180</td>\n      <td>NaN</td>\n      <td>M5R 2E8</td>\n      <td>ON</td>\n      <td>4b9d206bf964a520e69136e3</td>\n    </tr>\n    <tr>\n      <th>1</th>\n      <td>Hart House Theatre</td>\n      <td>Theater</td>\n      <td>7 Hart House Cir.</td>\n      <td>CA</td>\n      <td>Toronto</td>\n      <td>Canada</td>\n      <td>University of Toronto</td>\n      <td>334</td>\n      <td>[7 Hart House Cir. (University of Toronto), Toronto ON M5S 3H3, Canada]</td>\n      <td>[{'label': 'display', 'lng': -79.3946163990837, 'lat': 43.66357134217992}]</td>\n      <td>43.663571</td>\n      <td>-79.394616</td>\n      <td>NaN</td>\n      <td>M5S 3H3</td>\n      <td>ON</td>\n      <td>4ce47a4bc850721e2b8bc38a</td>\n    </tr>\n    <tr>\n      <th>2</th>\n      <td>Kekou Gelato House</td>\n      <td>Ice Cream Shop</td>\n      <td>13 Baldwin St</td>\n      <td>CA</td>\n      <td>Toronto</td>\n      <td>Canada</td>\n      <td>btwn Beverley &amp; McCaul</td>\n      <td>575</td>\n      <td>[13 Baldwin St (btwn Beverley &amp; McCaul), Toronto ON M5T 1L1, Canada]</td>\n      <td>[{'label': 'display', 'lng': -79.39271479734887, 'lat': 43.65609938127313}]</td>\n      <td>43.656099</td>\n      <td>-79.392715</td>\n      <td>NaN</td>\n      <td>M5T 1L1</td>\n      <td>ON</td>\n      <td>51e87a62498e8eea21f772d3</td>\n    </tr>\n    <tr>\n      <th>3</th>\n      <td>Prenup Pub</td>\n      <td>Gastropub</td>\n      <td>191 College St</td>\n      <td>CA</td>\n      <td>Toronto</td>\n      <td>Canada</td>\n      <td>Henry St</td>\n      <td>222</td>\n      <td>[191 College St (Henry St), Toronto ON M5S 3E4, Canada]</td>\n      <td>[{'label': 'display', 'lng': -79.39482802742828, 'lat': 43.658882366438164}]</td>\n      <td>43.658882</td>\n      <td>-79.394828</td>\n      <td>NaN</td>\n      <td>M5S 3E4</td>\n      <td>ON</td>\n      <td>54238a83498e5efd4a50435b</td>\n    </tr>\n    <tr>\n      <th>4</th>\n      <td>A &amp; C World</td>\n      <td>Gaming Cafe</td>\n      <td>452 Spadina Ave.</td>\n      <td>CA</td>\n      <td>Toronto</td>\n      <td>Canada</td>\n      <td>at College St.</td>\n      <td>485</td>\n      <td>[452 Spadina Ave. (at College St.), Toronto ON M5S 2J3, Canada]</td>\n      <td>[{'label': 'display', 'lng': -79.39984655786655, 'lat': 43.65740880302916}]</td>\n      <td>43.657409</td>\n      <td>-79.399847</td>\n      <td>NaN</td>\n      <td>M5S 2J3</td>\n      <td>ON</td>\n      <td>4dbc33b90cb691071c9c7d29</td>\n    </tr>\n    <tr>\n      <th>5</th>\n      <td>Vegetarian Haven</td>\n      <td>Vegetarian / Vegan Restaurant</td>\n      <td>17 Baldwin St</td>\n      <td>CA</td>\n      <td>Toronto</td>\n      <td>Canada</td>\n      <td>NaN</td>\n      <td>582</td>\n      <td>[17 Baldwin St, Toronto ON M5T 1L1, Canada]</td>\n      <td>[{'label': 'display', 'lng': -79.3927577742003, 'lat': 43.656016028357094}]</td>\n      <td>43.656016</td>\n      <td>-79.392758</td>\n      <td>NaN</td>\n      <td>M5T 1L1</td>\n      <td>ON</td>\n      <td>4aeb711ef964a52017c221e3</td>\n    </tr>\n    <tr>\n      <th>6</th>\n      <td>Mother's Dumplings</td>\n      <td>Dumpling Restaurant</td>\n      <td>421 Spadina Ave.</td>\n      <td>CA</td>\n      <td>Toronto</td>\n      <td>Canada</td>\n      <td>btwn College &amp; Cecil St.</td>\n      <td>497</td>\n      <td>[421 Spadina Ave. (btwn College &amp; Cecil St.), Toronto ON M5T 2G6, Canada]</td>\n      <td>[{'label': 'display', 'lng': -79.39955196237875, 'lat': 43.65710501801941}]</td>\n      <td>43.657105</td>\n      <td>-79.399552</td>\n      <td>NaN</td>\n      <td>M5T 2G6</td>\n      <td>ON</td>\n      <td>4b7716a9f964a520297c2ee3</td>\n    </tr>\n    <tr>\n      <th>7</th>\n      <td>Carmen's City Market</td>\n      <td>Supermarket</td>\n      <td>301 College Street</td>\n      <td>CA</td>\n      <td>Toronto</td>\n      <td>Canada</td>\n      <td>NaN</td>\n      <td>573</td>\n      <td>[301 College Street, Toronto ON M5T 1S2, Canada]</td>\n      <td>[{'label': 'display', 'lng': -79.40162631000557, 'lat': 43.65764732156707}]</td>\n      <td>43.657647</td>\n      <td>-79.401626</td>\n      <td>NaN</td>\n      <td>M5T 1S2</td>\n      <td>ON</td>\n      <td>57b8cab3498efd6376fd296b</td>\n    </tr>\n    <tr>\n      <th>8</th>\n      <td>Booster Juice</td>\n      <td>Smoothie Shop</td>\n      <td>257 College Street, Main Floor</td>\n      <td>CA</td>\n      <td>Toronto</td>\n      <td>Canada</td>\n      <td>btwn Huron &amp; Spadina</td>\n      <td>406</td>\n      <td>[257 College Street, Main Floor (btwn Huron &amp; Spadina), Toronto ON M5T 1R5, Canada]</td>\n      <td>[{'label': 'display', 'lng': -79.3993, 'lat': 43.658016}]</td>\n      <td>43.658016</td>\n      <td>-79.399300</td>\n      <td>NaN</td>\n      <td>M5T 1R5</td>\n      <td>ON</td>\n      <td>4baa6c4af964a520bb683ae3</td>\n    </tr>\n    <tr>\n      <th>9</th>\n      <td>Rasa</td>\n      <td>Restaurant</td>\n      <td>196 Robert Street</td>\n      <td>CA</td>\n      <td>NaN</td>\n      <td>Canada</td>\n      <td>NaN</td>\n      <td>688</td>\n      <td>[196 Robert Street, Canada]</td>\n      <td>[{'label': 'display', 'lng': -79.40398803188654, 'lat': 43.662756751275445}]</td>\n      <td>43.662757</td>\n      <td>-79.403988</td>\n      <td>NaN</td>\n      <td>NaN</td>\n      <td>NaN</td>\n      <td>527d450111d25050de4ea0d8</td>\n    </tr>\n  </tbody>\n</table>\n</div>", 
                        "text/plain": "                   name                     categories  \\\n0  Queen's Park          Park                            \n1  Hart House Theatre    Theater                         \n2  Kekou Gelato House    Ice Cream Shop                  \n3  Prenup Pub            Gastropub                       \n4  A & C World           Gaming Cafe                     \n5  Vegetarian Haven      Vegetarian / Vegan Restaurant   \n6  Mother's Dumplings    Dumpling Restaurant             \n7  Carmen's City Market  Supermarket                     \n8  Booster Juice         Smoothie Shop                   \n9  Rasa                  Restaurant                      \n\n                          address  cc     city country  \\\n0  University Ave.                 CA  Toronto  Canada   \n1  7 Hart House Cir.               CA  Toronto  Canada   \n2  13 Baldwin St                   CA  Toronto  Canada   \n3  191 College St                  CA  Toronto  Canada   \n4  452 Spadina Ave.                CA  Toronto  Canada   \n5  17 Baldwin St                   CA  Toronto  Canada   \n6  421 Spadina Ave.                CA  Toronto  Canada   \n7  301 College Street              CA  Toronto  Canada   \n8  257 College Street, Main Floor  CA  Toronto  Canada   \n9  196 Robert Street               CA  NaN      Canada   \n\n                crossStreet  distance  \\\n0  at Wellesley Ave.         468        \n1  University of Toronto     334        \n2  btwn Beverley & McCaul    575        \n3  Henry St                  222        \n4  at College St.            485        \n5  NaN                       582        \n6  btwn College & Cecil St.  497        \n7  NaN                       573        \n8  btwn Huron & Spadina      406        \n9  NaN                       688        \n\n                                                                      formattedAddress  \\\n0  [University Ave. (at Wellesley Ave.), Toronto ON M5R 2E8, Canada]                     \n1  [7 Hart House Cir. (University of Toronto), Toronto ON M5S 3H3, Canada]               \n2  [13 Baldwin St (btwn Beverley & McCaul), Toronto ON M5T 1L1, Canada]                  \n3  [191 College St (Henry St), Toronto ON M5S 3E4, Canada]                               \n4  [452 Spadina Ave. (at College St.), Toronto ON M5S 2J3, Canada]                       \n5  [17 Baldwin St, Toronto ON M5T 1L1, Canada]                                           \n6  [421 Spadina Ave. (btwn College & Cecil St.), Toronto ON M5T 2G6, Canada]             \n7  [301 College Street, Toronto ON M5T 1S2, Canada]                                      \n8  [257 College Street, Main Floor (btwn Huron & Spadina), Toronto ON M5T 1R5, Canada]   \n9  [196 Robert Street, Canada]                                                           \n\n                                                                 labeledLatLngs  \\\n0  [{'label': 'display', 'lng': -79.39217952520835, 'lat': 43.66394609897775}]    \n1  [{'label': 'display', 'lng': -79.3946163990837, 'lat': 43.66357134217992}]     \n2  [{'label': 'display', 'lng': -79.39271479734887, 'lat': 43.65609938127313}]    \n3  [{'label': 'display', 'lng': -79.39482802742828, 'lat': 43.658882366438164}]   \n4  [{'label': 'display', 'lng': -79.39984655786655, 'lat': 43.65740880302916}]    \n5  [{'label': 'display', 'lng': -79.3927577742003, 'lat': 43.656016028357094}]    \n6  [{'label': 'display', 'lng': -79.39955196237875, 'lat': 43.65710501801941}]    \n7  [{'label': 'display', 'lng': -79.40162631000557, 'lat': 43.65764732156707}]    \n8  [{'label': 'display', 'lng': -79.3993, 'lat': 43.658016}]                      \n9  [{'label': 'display', 'lng': -79.40398803188654, 'lat': 43.662756751275445}]   \n\n         lat        lng neighborhood postalCode state  \\\n0  43.663946 -79.392180  NaN          M5R 2E8    ON     \n1  43.663571 -79.394616  NaN          M5S 3H3    ON     \n2  43.656099 -79.392715  NaN          M5T 1L1    ON     \n3  43.658882 -79.394828  NaN          M5S 3E4    ON     \n4  43.657409 -79.399847  NaN          M5S 2J3    ON     \n5  43.656016 -79.392758  NaN          M5T 1L1    ON     \n6  43.657105 -79.399552  NaN          M5T 2G6    ON     \n7  43.657647 -79.401626  NaN          M5T 1S2    ON     \n8  43.658016 -79.399300  NaN          M5T 1R5    ON     \n9  43.662757 -79.403988  NaN          NaN        NaN    \n\n                         id  \n0  4b9d206bf964a520e69136e3  \n1  4ce47a4bc850721e2b8bc38a  \n2  51e87a62498e8eea21f772d3  \n3  54238a83498e5efd4a50435b  \n4  4dbc33b90cb691071c9c7d29  \n5  4aeb711ef964a52017c221e3  \n6  4b7716a9f964a520297c2ee3  \n7  57b8cab3498efd6376fd296b  \n8  4baa6c4af964a520bb683ae3  \n9  527d450111d25050de4ea0d8  "
                    }, 
                    "output_type": "execute_result"
                }
            ], 
            "source": "dataframe = json_normalize(items) # flatten JSON\n\n# filter columns\nfiltered_columns = ['venue.name', 'venue.categories'] + [col for col in dataframe.columns if col.startswith('venue.location.')] + ['venue.id']\ndataframe_filtered = dataframe.loc[:, filtered_columns]\n\n# filter the category for each row\ndataframe_filtered['venue.categories'] = dataframe_filtered.apply(get_category_type, axis=1)\n\n# clean columns\ndataframe_filtered.columns = [col.split('.')[-1] for col in dataframe_filtered.columns]\n\ndataframe_filtered.head(10)"
        }, 
        {
            "source": "#### Let's visualize these items on the map around our location", 
            "cell_type": "markdown", 
            "metadata": {}
        }, 
        {
            "execution_count": 42, 
            "cell_type": "code", 
            "metadata": {}, 
            "outputs": [
                {
                    "execution_count": 42, 
                    "metadata": {}, 
                    "data": {
                        "text/html": "<div style=\"width:100%;\"><div style=\"position:relative;width:100%;height:0;padding-bottom:60%;\"><iframe src=\"data:text/html;charset=utf-8;base64,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\" style=\"position:absolute;width:100%;height:100%;left:0;top:0;border:none !important;\" allowfullscreen webkitallowfullscreen mozallowfullscreen></iframe></div></div>", 
                        "text/plain": "<folium.folium.Map at 0x7f64ba133c88>"
                    }, 
                    "output_type": "execute_result"
                }
            ], 
            "source": "venues_map = folium.Map(location=[latitude, longitude], zoom_start=15) # generate map centred around Ecco\n\n\n# add Ecco as a red circle mark\nfolium.features.CircleMarker(\n    [latitude, longitude],\n    radius=10,\n    popup='Ecco',\n    fill=True,\n    color='red',\n    fill_color='red',\n    fill_opacity=0.6\n    ).add_to(venues_map)\n\n\n# add popular spots to the map as blue circle markers\nfor lat, lng, label in zip(dataframe_filtered.lat, dataframe_filtered.lng, dataframe_filtered.categories):\n    folium.features.CircleMarker(\n        [lat, lng],\n        radius=5,\n        popup=label,\n        fill=True,\n        color='blue',\n        fill_color='blue',\n        fill_opacity=0.6\n        ).add_to(venues_map)\n\n# display map\nvenues_map"
        }, 
        {
            "source": "# 5. Explore Trending Venues", 
            "cell_type": "markdown", 
            "metadata": {}
        }, 
        {
            "source": "#### Let's explor the trending venues around University of Toronto, King's campus, Downtown Toronto.", 
            "cell_type": "markdown", 
            "metadata": {}
        }, 
        {
            "execution_count": 43, 
            "cell_type": "code", 
            "metadata": {}, 
            "outputs": [
                {
                    "execution_count": 43, 
                    "metadata": {}, 
                    "data": {
                        "text/plain": "{'meta': {'code': 200, 'requestId': '5bc7161cdb04f50f805d46d9'},\n 'response': {'venues': []}}"
                    }, 
                    "output_type": "execute_result"
                }
            ], 
            "source": "# define URL\nurl = 'https://api.foursquare.com/v2/venues/trending?client_id={}&client_secret={}&ll={},{}&v={}'.format(CLIENT_ID, CLIENT_SECRET, latitude, longitude, VERSION)\n\n# send GET request and get trending venues\nresults = requests.get(url).json()\nresults"
        }, 
        {
            "source": "#### Check if any venues are trending at this time.", 
            "cell_type": "markdown", 
            "metadata": {}
        }, 
        {
            "execution_count": 44, 
            "cell_type": "code", 
            "metadata": {}, 
            "outputs": [
                {
                    "execution_count": 44, 
                    "metadata": {}, 
                    "data": {
                        "text/plain": "'No trending venues are available at the moment!'"
                    }, 
                    "output_type": "execute_result"
                }
            ], 
            "source": "if len(results['response']['venues']) == 0:\n    trending_venues_df = 'No trending venues are available at the moment!'\n    \nelse:\n    trending_venues = results['response']['venues']\n    trending_venues_df = json_normalize(trending_venues)\n\n    # filter columns\n    columns_filtered = ['name', 'categories'] + ['location.distance', 'location.city', 'location.postalCode', 'location.state', 'location.country', 'location.lat', 'location.lng']\n    trending_venues_df = trending_venues_df.loc[:, columns_filtered]\n\n    # filter the category for each row\n    trending_venues_df['categories'] = trending_venues_df.apply(get_category_type, axis=1)\n    \n    # display trending venues\ntrending_venues_df"
        }, 
        {
            "source": "#### I couldn't able to get trending venues. The probable reason is there is no highest foot trafic when I have tried to fetche. The time was around 2:00pm in my local time but  6:00AM in Toronto's time.", 
            "cell_type": "markdown", 
            "metadata": {}
        }
    ], 
    "metadata": {
        "kernelspec": {
            "display_name": "Python 3.5 with Spark", 
            "name": "python3", 
            "language": "python3"
        }, 
        "language_info": {
            "mimetype": "text/x-python", 
            "nbconvert_exporter": "python", 
            "version": "3.5.4", 
            "name": "python", 
            "file_extension": ".py", 
            "pygments_lexer": "ipython3", 
            "codemirror_mode": {
                "version": 3, 
                "name": "ipython"
            }
        }
    }, 
    "nbformat": 4
}